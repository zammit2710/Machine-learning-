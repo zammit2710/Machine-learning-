{
  "nbformat": 4,
  "nbformat_minor": 0,
  "metadata": {
    "colab": {
      "provenance": []
    },
    "kernelspec": {
      "name": "python3",
      "display_name": "Python 3"
    },
    "language_info": {
      "name": "python"
    }
  },
  "cells": [
    {
      "cell_type": "code",
      "execution_count": 3,
      "metadata": {
        "id": "IjOXmDAShgzq"
      },
      "outputs": [],
      "source": [
        "import pandas as pd\n",
        "import numpy as np\n",
        "import matplotlib.pyplot as plt ## the core data visualization library for displaying these graphically data."
      ]
    },
    {
      "cell_type": "code",
      "source": [
        "## if you use google colab add the following library to read files in drive\n",
        "import warnings\n",
        "warnings.filterwarnings(\"ignore\")\n",
        "warnings.filterwarnings(\"ignore\", category=DeprecationWarning)\n",
        "from google.colab import drive\n",
        "drive.mount('/content/drive')\n"
      ],
      "metadata": {
        "colab": {
          "base_uri": "https://localhost:8080/"
        },
        "id": "rCdQy8QAhsUZ",
        "outputId": "0448503f-48ee-4525-a952-04c1ca3b0c2e"
      },
      "execution_count": 4,
      "outputs": [
        {
          "output_type": "stream",
          "name": "stdout",
          "text": [
            "Mounted at /content/drive\n"
          ]
        }
      ]
    },
    {
      "cell_type": "code",
      "source": [
        "data= pd.read_csv('/content/drive/MyDrive/pollingData.csv')\n",
        "data"
      ],
      "metadata": {
        "colab": {
          "base_uri": "https://localhost:8080/",
          "height": 1000
        },
        "id": "GmwzfE5InSE_",
        "outputId": "7b4e63f6-d317-4b2d-c00a-c15b9ef10d0a"
      },
      "execution_count": 6,
      "outputs": [
        {
          "output_type": "execute_result",
          "data": {
            "text/plain": [
              "             State   Yes    No  Total  PercentYes  PercentNo\n",
              "0         Delaware   228   111    339        0.67       0.33\n",
              "1       New Mexico   108    63    171        0.63       0.37\n",
              "2   North Carolina   724   429   1153        0.63       0.37\n",
              "3           Nevada   213   127    340        0.63       0.37\n",
              "4             Ohio   988   607   1595        0.62       0.38\n",
              "5          Arizona   332   204    536        0.62       0.38\n",
              "6       Mississipi   242   151    393        0.62       0.38\n",
              "7   South Carolina   235   148    383        0.61       0.39\n",
              "8          Indiana   595   376    971        0.61       0.39\n",
              "9         Maryland   512   326    838        0.61       0.39\n",
              "10    South Dakota   116    74    190        0.61       0.39\n",
              "11          Alaska    57    37     94        0.61       0.39\n",
              "12        Oklahoma   409   266    675        0.61       0.39\n",
              "13       Tennessee   402   264    666        0.60       0.40\n",
              "14          Hawaii    44    29     73        0.60       0.40\n",
              "15      California  1849  1220   3069        0.60       0.40\n",
              "16         Florida   982   649   1631        0.60       0.40\n",
              "17            Utah   234   155    389        0.60       0.40\n",
              "18           Texas  1686  1125   2811        0.60       0.40\n",
              "19        Kentucky   337   253    590        0.57       0.43\n",
              "20          Oregon   658   446   1104        0.60       0.40\n",
              "21        Missouri   601   409   1010        0.60       0.40\n",
              "22   New Hampshire   273   187    460        0.59       0.41\n",
              "23       Louisiana   275   189    464        0.59       0.41\n",
              "24        Colorado   453   316    769        0.59       0.41\n",
              "25    Pennsylvania  1619  1137   2756        0.59       0.41\n",
              "26        Arkansas   385   271    656        0.59       0.41\n",
              "27        Virginia   867   611   1478        0.59       0.41\n",
              "28        Nebraska   170   122    292        0.58       0.42\n",
              "29       Wisconsin   681   491   1172        0.58       0.42\n",
              "30          Kansas   394   287    681        0.58       0.42\n",
              "31        Michigan  1320   972   2292        0.58       0.42\n",
              "32         Montana   167   125    292        0.57       0.43\n",
              "33           Idaho   193   145    338        0.57       0.43\n",
              "34      Washington  1006   758   1764        0.57       0.43\n",
              "35    Rhode Island    91    69    160        0.57       0.43\n",
              "36         Georgia   290   221    511        0.57       0.43\n",
              "37        Illinois  1292   985   2277        0.57       0.43\n",
              "38        New York  3163  2433   5596        0.57       0.43\n",
              "39     Connecticut   665   512   1177        0.56       0.44\n",
              "40       Minnesota   602   466   1068        0.56       0.44\n",
              "41         Alabama   328   255    583        0.56       0.44\n",
              "42         Wyoming   105    82    187        0.56       0.44\n",
              "43            Iowa   445   357    802        0.55       0.45\n",
              "44      New Jersey  1293  1039   2332        0.55       0.45\n",
              "45   Massachusetts  1088   892   1980        0.55       0.45\n",
              "46         Vermont   119   108    227        0.52       0.48\n",
              "47           Maine   382   360    742        0.51       0.49\n",
              "48   West Virginia   257   247    504        0.51       0.49\n",
              "49    North Dakota    59    58    117        0.50       0.50"
            ],
            "text/html": [
              "\n",
              "  <div id=\"df-4e0f1720-2327-4451-8860-4c68d2a8d164\">\n",
              "    <div class=\"colab-df-container\">\n",
              "      <div>\n",
              "<style scoped>\n",
              "    .dataframe tbody tr th:only-of-type {\n",
              "        vertical-align: middle;\n",
              "    }\n",
              "\n",
              "    .dataframe tbody tr th {\n",
              "        vertical-align: top;\n",
              "    }\n",
              "\n",
              "    .dataframe thead th {\n",
              "        text-align: right;\n",
              "    }\n",
              "</style>\n",
              "<table border=\"1\" class=\"dataframe\">\n",
              "  <thead>\n",
              "    <tr style=\"text-align: right;\">\n",
              "      <th></th>\n",
              "      <th>State</th>\n",
              "      <th>Yes</th>\n",
              "      <th>No</th>\n",
              "      <th>Total</th>\n",
              "      <th>PercentYes</th>\n",
              "      <th>PercentNo</th>\n",
              "    </tr>\n",
              "  </thead>\n",
              "  <tbody>\n",
              "    <tr>\n",
              "      <th>0</th>\n",
              "      <td>Delaware</td>\n",
              "      <td>228</td>\n",
              "      <td>111</td>\n",
              "      <td>339</td>\n",
              "      <td>0.67</td>\n",
              "      <td>0.33</td>\n",
              "    </tr>\n",
              "    <tr>\n",
              "      <th>1</th>\n",
              "      <td>New Mexico</td>\n",
              "      <td>108</td>\n",
              "      <td>63</td>\n",
              "      <td>171</td>\n",
              "      <td>0.63</td>\n",
              "      <td>0.37</td>\n",
              "    </tr>\n",
              "    <tr>\n",
              "      <th>2</th>\n",
              "      <td>North Carolina</td>\n",
              "      <td>724</td>\n",
              "      <td>429</td>\n",
              "      <td>1153</td>\n",
              "      <td>0.63</td>\n",
              "      <td>0.37</td>\n",
              "    </tr>\n",
              "    <tr>\n",
              "      <th>3</th>\n",
              "      <td>Nevada</td>\n",
              "      <td>213</td>\n",
              "      <td>127</td>\n",
              "      <td>340</td>\n",
              "      <td>0.63</td>\n",
              "      <td>0.37</td>\n",
              "    </tr>\n",
              "    <tr>\n",
              "      <th>4</th>\n",
              "      <td>Ohio</td>\n",
              "      <td>988</td>\n",
              "      <td>607</td>\n",
              "      <td>1595</td>\n",
              "      <td>0.62</td>\n",
              "      <td>0.38</td>\n",
              "    </tr>\n",
              "    <tr>\n",
              "      <th>5</th>\n",
              "      <td>Arizona</td>\n",
              "      <td>332</td>\n",
              "      <td>204</td>\n",
              "      <td>536</td>\n",
              "      <td>0.62</td>\n",
              "      <td>0.38</td>\n",
              "    </tr>\n",
              "    <tr>\n",
              "      <th>6</th>\n",
              "      <td>Mississipi</td>\n",
              "      <td>242</td>\n",
              "      <td>151</td>\n",
              "      <td>393</td>\n",
              "      <td>0.62</td>\n",
              "      <td>0.38</td>\n",
              "    </tr>\n",
              "    <tr>\n",
              "      <th>7</th>\n",
              "      <td>South Carolina</td>\n",
              "      <td>235</td>\n",
              "      <td>148</td>\n",
              "      <td>383</td>\n",
              "      <td>0.61</td>\n",
              "      <td>0.39</td>\n",
              "    </tr>\n",
              "    <tr>\n",
              "      <th>8</th>\n",
              "      <td>Indiana</td>\n",
              "      <td>595</td>\n",
              "      <td>376</td>\n",
              "      <td>971</td>\n",
              "      <td>0.61</td>\n",
              "      <td>0.39</td>\n",
              "    </tr>\n",
              "    <tr>\n",
              "      <th>9</th>\n",
              "      <td>Maryland</td>\n",
              "      <td>512</td>\n",
              "      <td>326</td>\n",
              "      <td>838</td>\n",
              "      <td>0.61</td>\n",
              "      <td>0.39</td>\n",
              "    </tr>\n",
              "    <tr>\n",
              "      <th>10</th>\n",
              "      <td>South Dakota</td>\n",
              "      <td>116</td>\n",
              "      <td>74</td>\n",
              "      <td>190</td>\n",
              "      <td>0.61</td>\n",
              "      <td>0.39</td>\n",
              "    </tr>\n",
              "    <tr>\n",
              "      <th>11</th>\n",
              "      <td>Alaska</td>\n",
              "      <td>57</td>\n",
              "      <td>37</td>\n",
              "      <td>94</td>\n",
              "      <td>0.61</td>\n",
              "      <td>0.39</td>\n",
              "    </tr>\n",
              "    <tr>\n",
              "      <th>12</th>\n",
              "      <td>Oklahoma</td>\n",
              "      <td>409</td>\n",
              "      <td>266</td>\n",
              "      <td>675</td>\n",
              "      <td>0.61</td>\n",
              "      <td>0.39</td>\n",
              "    </tr>\n",
              "    <tr>\n",
              "      <th>13</th>\n",
              "      <td>Tennessee</td>\n",
              "      <td>402</td>\n",
              "      <td>264</td>\n",
              "      <td>666</td>\n",
              "      <td>0.60</td>\n",
              "      <td>0.40</td>\n",
              "    </tr>\n",
              "    <tr>\n",
              "      <th>14</th>\n",
              "      <td>Hawaii</td>\n",
              "      <td>44</td>\n",
              "      <td>29</td>\n",
              "      <td>73</td>\n",
              "      <td>0.60</td>\n",
              "      <td>0.40</td>\n",
              "    </tr>\n",
              "    <tr>\n",
              "      <th>15</th>\n",
              "      <td>California</td>\n",
              "      <td>1849</td>\n",
              "      <td>1220</td>\n",
              "      <td>3069</td>\n",
              "      <td>0.60</td>\n",
              "      <td>0.40</td>\n",
              "    </tr>\n",
              "    <tr>\n",
              "      <th>16</th>\n",
              "      <td>Florida</td>\n",
              "      <td>982</td>\n",
              "      <td>649</td>\n",
              "      <td>1631</td>\n",
              "      <td>0.60</td>\n",
              "      <td>0.40</td>\n",
              "    </tr>\n",
              "    <tr>\n",
              "      <th>17</th>\n",
              "      <td>Utah</td>\n",
              "      <td>234</td>\n",
              "      <td>155</td>\n",
              "      <td>389</td>\n",
              "      <td>0.60</td>\n",
              "      <td>0.40</td>\n",
              "    </tr>\n",
              "    <tr>\n",
              "      <th>18</th>\n",
              "      <td>Texas</td>\n",
              "      <td>1686</td>\n",
              "      <td>1125</td>\n",
              "      <td>2811</td>\n",
              "      <td>0.60</td>\n",
              "      <td>0.40</td>\n",
              "    </tr>\n",
              "    <tr>\n",
              "      <th>19</th>\n",
              "      <td>Kentucky</td>\n",
              "      <td>337</td>\n",
              "      <td>253</td>\n",
              "      <td>590</td>\n",
              "      <td>0.57</td>\n",
              "      <td>0.43</td>\n",
              "    </tr>\n",
              "    <tr>\n",
              "      <th>20</th>\n",
              "      <td>Oregon</td>\n",
              "      <td>658</td>\n",
              "      <td>446</td>\n",
              "      <td>1104</td>\n",
              "      <td>0.60</td>\n",
              "      <td>0.40</td>\n",
              "    </tr>\n",
              "    <tr>\n",
              "      <th>21</th>\n",
              "      <td>Missouri</td>\n",
              "      <td>601</td>\n",
              "      <td>409</td>\n",
              "      <td>1010</td>\n",
              "      <td>0.60</td>\n",
              "      <td>0.40</td>\n",
              "    </tr>\n",
              "    <tr>\n",
              "      <th>22</th>\n",
              "      <td>New Hampshire</td>\n",
              "      <td>273</td>\n",
              "      <td>187</td>\n",
              "      <td>460</td>\n",
              "      <td>0.59</td>\n",
              "      <td>0.41</td>\n",
              "    </tr>\n",
              "    <tr>\n",
              "      <th>23</th>\n",
              "      <td>Louisiana</td>\n",
              "      <td>275</td>\n",
              "      <td>189</td>\n",
              "      <td>464</td>\n",
              "      <td>0.59</td>\n",
              "      <td>0.41</td>\n",
              "    </tr>\n",
              "    <tr>\n",
              "      <th>24</th>\n",
              "      <td>Colorado</td>\n",
              "      <td>453</td>\n",
              "      <td>316</td>\n",
              "      <td>769</td>\n",
              "      <td>0.59</td>\n",
              "      <td>0.41</td>\n",
              "    </tr>\n",
              "    <tr>\n",
              "      <th>25</th>\n",
              "      <td>Pennsylvania</td>\n",
              "      <td>1619</td>\n",
              "      <td>1137</td>\n",
              "      <td>2756</td>\n",
              "      <td>0.59</td>\n",
              "      <td>0.41</td>\n",
              "    </tr>\n",
              "    <tr>\n",
              "      <th>26</th>\n",
              "      <td>Arkansas</td>\n",
              "      <td>385</td>\n",
              "      <td>271</td>\n",
              "      <td>656</td>\n",
              "      <td>0.59</td>\n",
              "      <td>0.41</td>\n",
              "    </tr>\n",
              "    <tr>\n",
              "      <th>27</th>\n",
              "      <td>Virginia</td>\n",
              "      <td>867</td>\n",
              "      <td>611</td>\n",
              "      <td>1478</td>\n",
              "      <td>0.59</td>\n",
              "      <td>0.41</td>\n",
              "    </tr>\n",
              "    <tr>\n",
              "      <th>28</th>\n",
              "      <td>Nebraska</td>\n",
              "      <td>170</td>\n",
              "      <td>122</td>\n",
              "      <td>292</td>\n",
              "      <td>0.58</td>\n",
              "      <td>0.42</td>\n",
              "    </tr>\n",
              "    <tr>\n",
              "      <th>29</th>\n",
              "      <td>Wisconsin</td>\n",
              "      <td>681</td>\n",
              "      <td>491</td>\n",
              "      <td>1172</td>\n",
              "      <td>0.58</td>\n",
              "      <td>0.42</td>\n",
              "    </tr>\n",
              "    <tr>\n",
              "      <th>30</th>\n",
              "      <td>Kansas</td>\n",
              "      <td>394</td>\n",
              "      <td>287</td>\n",
              "      <td>681</td>\n",
              "      <td>0.58</td>\n",
              "      <td>0.42</td>\n",
              "    </tr>\n",
              "    <tr>\n",
              "      <th>31</th>\n",
              "      <td>Michigan</td>\n",
              "      <td>1320</td>\n",
              "      <td>972</td>\n",
              "      <td>2292</td>\n",
              "      <td>0.58</td>\n",
              "      <td>0.42</td>\n",
              "    </tr>\n",
              "    <tr>\n",
              "      <th>32</th>\n",
              "      <td>Montana</td>\n",
              "      <td>167</td>\n",
              "      <td>125</td>\n",
              "      <td>292</td>\n",
              "      <td>0.57</td>\n",
              "      <td>0.43</td>\n",
              "    </tr>\n",
              "    <tr>\n",
              "      <th>33</th>\n",
              "      <td>Idaho</td>\n",
              "      <td>193</td>\n",
              "      <td>145</td>\n",
              "      <td>338</td>\n",
              "      <td>0.57</td>\n",
              "      <td>0.43</td>\n",
              "    </tr>\n",
              "    <tr>\n",
              "      <th>34</th>\n",
              "      <td>Washington</td>\n",
              "      <td>1006</td>\n",
              "      <td>758</td>\n",
              "      <td>1764</td>\n",
              "      <td>0.57</td>\n",
              "      <td>0.43</td>\n",
              "    </tr>\n",
              "    <tr>\n",
              "      <th>35</th>\n",
              "      <td>Rhode Island</td>\n",
              "      <td>91</td>\n",
              "      <td>69</td>\n",
              "      <td>160</td>\n",
              "      <td>0.57</td>\n",
              "      <td>0.43</td>\n",
              "    </tr>\n",
              "    <tr>\n",
              "      <th>36</th>\n",
              "      <td>Georgia</td>\n",
              "      <td>290</td>\n",
              "      <td>221</td>\n",
              "      <td>511</td>\n",
              "      <td>0.57</td>\n",
              "      <td>0.43</td>\n",
              "    </tr>\n",
              "    <tr>\n",
              "      <th>37</th>\n",
              "      <td>Illinois</td>\n",
              "      <td>1292</td>\n",
              "      <td>985</td>\n",
              "      <td>2277</td>\n",
              "      <td>0.57</td>\n",
              "      <td>0.43</td>\n",
              "    </tr>\n",
              "    <tr>\n",
              "      <th>38</th>\n",
              "      <td>New York</td>\n",
              "      <td>3163</td>\n",
              "      <td>2433</td>\n",
              "      <td>5596</td>\n",
              "      <td>0.57</td>\n",
              "      <td>0.43</td>\n",
              "    </tr>\n",
              "    <tr>\n",
              "      <th>39</th>\n",
              "      <td>Connecticut</td>\n",
              "      <td>665</td>\n",
              "      <td>512</td>\n",
              "      <td>1177</td>\n",
              "      <td>0.56</td>\n",
              "      <td>0.44</td>\n",
              "    </tr>\n",
              "    <tr>\n",
              "      <th>40</th>\n",
              "      <td>Minnesota</td>\n",
              "      <td>602</td>\n",
              "      <td>466</td>\n",
              "      <td>1068</td>\n",
              "      <td>0.56</td>\n",
              "      <td>0.44</td>\n",
              "    </tr>\n",
              "    <tr>\n",
              "      <th>41</th>\n",
              "      <td>Alabama</td>\n",
              "      <td>328</td>\n",
              "      <td>255</td>\n",
              "      <td>583</td>\n",
              "      <td>0.56</td>\n",
              "      <td>0.44</td>\n",
              "    </tr>\n",
              "    <tr>\n",
              "      <th>42</th>\n",
              "      <td>Wyoming</td>\n",
              "      <td>105</td>\n",
              "      <td>82</td>\n",
              "      <td>187</td>\n",
              "      <td>0.56</td>\n",
              "      <td>0.44</td>\n",
              "    </tr>\n",
              "    <tr>\n",
              "      <th>43</th>\n",
              "      <td>Iowa</td>\n",
              "      <td>445</td>\n",
              "      <td>357</td>\n",
              "      <td>802</td>\n",
              "      <td>0.55</td>\n",
              "      <td>0.45</td>\n",
              "    </tr>\n",
              "    <tr>\n",
              "      <th>44</th>\n",
              "      <td>New Jersey</td>\n",
              "      <td>1293</td>\n",
              "      <td>1039</td>\n",
              "      <td>2332</td>\n",
              "      <td>0.55</td>\n",
              "      <td>0.45</td>\n",
              "    </tr>\n",
              "    <tr>\n",
              "      <th>45</th>\n",
              "      <td>Massachusetts</td>\n",
              "      <td>1088</td>\n",
              "      <td>892</td>\n",
              "      <td>1980</td>\n",
              "      <td>0.55</td>\n",
              "      <td>0.45</td>\n",
              "    </tr>\n",
              "    <tr>\n",
              "      <th>46</th>\n",
              "      <td>Vermont</td>\n",
              "      <td>119</td>\n",
              "      <td>108</td>\n",
              "      <td>227</td>\n",
              "      <td>0.52</td>\n",
              "      <td>0.48</td>\n",
              "    </tr>\n",
              "    <tr>\n",
              "      <th>47</th>\n",
              "      <td>Maine</td>\n",
              "      <td>382</td>\n",
              "      <td>360</td>\n",
              "      <td>742</td>\n",
              "      <td>0.51</td>\n",
              "      <td>0.49</td>\n",
              "    </tr>\n",
              "    <tr>\n",
              "      <th>48</th>\n",
              "      <td>West Virginia</td>\n",
              "      <td>257</td>\n",
              "      <td>247</td>\n",
              "      <td>504</td>\n",
              "      <td>0.51</td>\n",
              "      <td>0.49</td>\n",
              "    </tr>\n",
              "    <tr>\n",
              "      <th>49</th>\n",
              "      <td>North Dakota</td>\n",
              "      <td>59</td>\n",
              "      <td>58</td>\n",
              "      <td>117</td>\n",
              "      <td>0.50</td>\n",
              "      <td>0.50</td>\n",
              "    </tr>\n",
              "  </tbody>\n",
              "</table>\n",
              "</div>\n",
              "      <button class=\"colab-df-convert\" onclick=\"convertToInteractive('df-4e0f1720-2327-4451-8860-4c68d2a8d164')\"\n",
              "              title=\"Convert this dataframe to an interactive table.\"\n",
              "              style=\"display:none;\">\n",
              "        \n",
              "  <svg xmlns=\"http://www.w3.org/2000/svg\" height=\"24px\"viewBox=\"0 0 24 24\"\n",
              "       width=\"24px\">\n",
              "    <path d=\"M0 0h24v24H0V0z\" fill=\"none\"/>\n",
              "    <path d=\"M18.56 5.44l.94 2.06.94-2.06 2.06-.94-2.06-.94-.94-2.06-.94 2.06-2.06.94zm-11 1L8.5 8.5l.94-2.06 2.06-.94-2.06-.94L8.5 2.5l-.94 2.06-2.06.94zm10 10l.94 2.06.94-2.06 2.06-.94-2.06-.94-.94-2.06-.94 2.06-2.06.94z\"/><path d=\"M17.41 7.96l-1.37-1.37c-.4-.4-.92-.59-1.43-.59-.52 0-1.04.2-1.43.59L10.3 9.45l-7.72 7.72c-.78.78-.78 2.05 0 2.83L4 21.41c.39.39.9.59 1.41.59.51 0 1.02-.2 1.41-.59l7.78-7.78 2.81-2.81c.8-.78.8-2.07 0-2.86zM5.41 20L4 18.59l7.72-7.72 1.47 1.35L5.41 20z\"/>\n",
              "  </svg>\n",
              "      </button>\n",
              "      \n",
              "  <style>\n",
              "    .colab-df-container {\n",
              "      display:flex;\n",
              "      flex-wrap:wrap;\n",
              "      gap: 12px;\n",
              "    }\n",
              "\n",
              "    .colab-df-convert {\n",
              "      background-color: #E8F0FE;\n",
              "      border: none;\n",
              "      border-radius: 50%;\n",
              "      cursor: pointer;\n",
              "      display: none;\n",
              "      fill: #1967D2;\n",
              "      height: 32px;\n",
              "      padding: 0 0 0 0;\n",
              "      width: 32px;\n",
              "    }\n",
              "\n",
              "    .colab-df-convert:hover {\n",
              "      background-color: #E2EBFA;\n",
              "      box-shadow: 0px 1px 2px rgba(60, 64, 67, 0.3), 0px 1px 3px 1px rgba(60, 64, 67, 0.15);\n",
              "      fill: #174EA6;\n",
              "    }\n",
              "\n",
              "    [theme=dark] .colab-df-convert {\n",
              "      background-color: #3B4455;\n",
              "      fill: #D2E3FC;\n",
              "    }\n",
              "\n",
              "    [theme=dark] .colab-df-convert:hover {\n",
              "      background-color: #434B5C;\n",
              "      box-shadow: 0px 1px 3px 1px rgba(0, 0, 0, 0.15);\n",
              "      filter: drop-shadow(0px 1px 2px rgba(0, 0, 0, 0.3));\n",
              "      fill: #FFFFFF;\n",
              "    }\n",
              "  </style>\n",
              "\n",
              "      <script>\n",
              "        const buttonEl =\n",
              "          document.querySelector('#df-4e0f1720-2327-4451-8860-4c68d2a8d164 button.colab-df-convert');\n",
              "        buttonEl.style.display =\n",
              "          google.colab.kernel.accessAllowed ? 'block' : 'none';\n",
              "\n",
              "        async function convertToInteractive(key) {\n",
              "          const element = document.querySelector('#df-4e0f1720-2327-4451-8860-4c68d2a8d164');\n",
              "          const dataTable =\n",
              "            await google.colab.kernel.invokeFunction('convertToInteractive',\n",
              "                                                     [key], {});\n",
              "          if (!dataTable) return;\n",
              "\n",
              "          const docLinkHtml = 'Like what you see? Visit the ' +\n",
              "            '<a target=\"_blank\" href=https://colab.research.google.com/notebooks/data_table.ipynb>data table notebook</a>'\n",
              "            + ' to learn more about interactive tables.';\n",
              "          element.innerHTML = '';\n",
              "          dataTable['output_type'] = 'display_data';\n",
              "          await google.colab.output.renderOutput(dataTable, element);\n",
              "          const docLink = document.createElement('div');\n",
              "          docLink.innerHTML = docLinkHtml;\n",
              "          element.appendChild(docLink);\n",
              "        }\n",
              "      </script>\n",
              "    </div>\n",
              "  </div>\n",
              "  "
            ]
          },
          "metadata": {},
          "execution_count": 6
        }
      ]
    },
    {
      "cell_type": "code",
      "source": [
        "df=data.head(10)\n",
        "df"
      ],
      "metadata": {
        "colab": {
          "base_uri": "https://localhost:8080/",
          "height": 363
        },
        "id": "gYhQdQ05o-G_",
        "outputId": "9d67709f-417e-4601-80f3-b8578e84cea8"
      },
      "execution_count": 76,
      "outputs": [
        {
          "output_type": "execute_result",
          "data": {
            "text/plain": [
              "            State  Yes   No  Total  PercentYes  PercentNo\n",
              "0        Delaware  228  111    339        0.67       0.33\n",
              "1      New Mexico  108   63    171        0.63       0.37\n",
              "2  North Carolina  724  429   1153        0.63       0.37\n",
              "3          Nevada  213  127    340        0.63       0.37\n",
              "4            Ohio  988  607   1595        0.62       0.38\n",
              "5         Arizona  332  204    536        0.62       0.38\n",
              "6      Mississipi  242  151    393        0.62       0.38\n",
              "7  South Carolina  235  148    383        0.61       0.39\n",
              "8         Indiana  595  376    971        0.61       0.39\n",
              "9        Maryland  512  326    838        0.61       0.39"
            ],
            "text/html": [
              "\n",
              "  <div id=\"df-22de1064-b055-40a6-a4a6-a6a479a07a0f\">\n",
              "    <div class=\"colab-df-container\">\n",
              "      <div>\n",
              "<style scoped>\n",
              "    .dataframe tbody tr th:only-of-type {\n",
              "        vertical-align: middle;\n",
              "    }\n",
              "\n",
              "    .dataframe tbody tr th {\n",
              "        vertical-align: top;\n",
              "    }\n",
              "\n",
              "    .dataframe thead th {\n",
              "        text-align: right;\n",
              "    }\n",
              "</style>\n",
              "<table border=\"1\" class=\"dataframe\">\n",
              "  <thead>\n",
              "    <tr style=\"text-align: right;\">\n",
              "      <th></th>\n",
              "      <th>State</th>\n",
              "      <th>Yes</th>\n",
              "      <th>No</th>\n",
              "      <th>Total</th>\n",
              "      <th>PercentYes</th>\n",
              "      <th>PercentNo</th>\n",
              "    </tr>\n",
              "  </thead>\n",
              "  <tbody>\n",
              "    <tr>\n",
              "      <th>0</th>\n",
              "      <td>Delaware</td>\n",
              "      <td>228</td>\n",
              "      <td>111</td>\n",
              "      <td>339</td>\n",
              "      <td>0.67</td>\n",
              "      <td>0.33</td>\n",
              "    </tr>\n",
              "    <tr>\n",
              "      <th>1</th>\n",
              "      <td>New Mexico</td>\n",
              "      <td>108</td>\n",
              "      <td>63</td>\n",
              "      <td>171</td>\n",
              "      <td>0.63</td>\n",
              "      <td>0.37</td>\n",
              "    </tr>\n",
              "    <tr>\n",
              "      <th>2</th>\n",
              "      <td>North Carolina</td>\n",
              "      <td>724</td>\n",
              "      <td>429</td>\n",
              "      <td>1153</td>\n",
              "      <td>0.63</td>\n",
              "      <td>0.37</td>\n",
              "    </tr>\n",
              "    <tr>\n",
              "      <th>3</th>\n",
              "      <td>Nevada</td>\n",
              "      <td>213</td>\n",
              "      <td>127</td>\n",
              "      <td>340</td>\n",
              "      <td>0.63</td>\n",
              "      <td>0.37</td>\n",
              "    </tr>\n",
              "    <tr>\n",
              "      <th>4</th>\n",
              "      <td>Ohio</td>\n",
              "      <td>988</td>\n",
              "      <td>607</td>\n",
              "      <td>1595</td>\n",
              "      <td>0.62</td>\n",
              "      <td>0.38</td>\n",
              "    </tr>\n",
              "    <tr>\n",
              "      <th>5</th>\n",
              "      <td>Arizona</td>\n",
              "      <td>332</td>\n",
              "      <td>204</td>\n",
              "      <td>536</td>\n",
              "      <td>0.62</td>\n",
              "      <td>0.38</td>\n",
              "    </tr>\n",
              "    <tr>\n",
              "      <th>6</th>\n",
              "      <td>Mississipi</td>\n",
              "      <td>242</td>\n",
              "      <td>151</td>\n",
              "      <td>393</td>\n",
              "      <td>0.62</td>\n",
              "      <td>0.38</td>\n",
              "    </tr>\n",
              "    <tr>\n",
              "      <th>7</th>\n",
              "      <td>South Carolina</td>\n",
              "      <td>235</td>\n",
              "      <td>148</td>\n",
              "      <td>383</td>\n",
              "      <td>0.61</td>\n",
              "      <td>0.39</td>\n",
              "    </tr>\n",
              "    <tr>\n",
              "      <th>8</th>\n",
              "      <td>Indiana</td>\n",
              "      <td>595</td>\n",
              "      <td>376</td>\n",
              "      <td>971</td>\n",
              "      <td>0.61</td>\n",
              "      <td>0.39</td>\n",
              "    </tr>\n",
              "    <tr>\n",
              "      <th>9</th>\n",
              "      <td>Maryland</td>\n",
              "      <td>512</td>\n",
              "      <td>326</td>\n",
              "      <td>838</td>\n",
              "      <td>0.61</td>\n",
              "      <td>0.39</td>\n",
              "    </tr>\n",
              "  </tbody>\n",
              "</table>\n",
              "</div>\n",
              "      <button class=\"colab-df-convert\" onclick=\"convertToInteractive('df-22de1064-b055-40a6-a4a6-a6a479a07a0f')\"\n",
              "              title=\"Convert this dataframe to an interactive table.\"\n",
              "              style=\"display:none;\">\n",
              "        \n",
              "  <svg xmlns=\"http://www.w3.org/2000/svg\" height=\"24px\"viewBox=\"0 0 24 24\"\n",
              "       width=\"24px\">\n",
              "    <path d=\"M0 0h24v24H0V0z\" fill=\"none\"/>\n",
              "    <path d=\"M18.56 5.44l.94 2.06.94-2.06 2.06-.94-2.06-.94-.94-2.06-.94 2.06-2.06.94zm-11 1L8.5 8.5l.94-2.06 2.06-.94-2.06-.94L8.5 2.5l-.94 2.06-2.06.94zm10 10l.94 2.06.94-2.06 2.06-.94-2.06-.94-.94-2.06-.94 2.06-2.06.94z\"/><path d=\"M17.41 7.96l-1.37-1.37c-.4-.4-.92-.59-1.43-.59-.52 0-1.04.2-1.43.59L10.3 9.45l-7.72 7.72c-.78.78-.78 2.05 0 2.83L4 21.41c.39.39.9.59 1.41.59.51 0 1.02-.2 1.41-.59l7.78-7.78 2.81-2.81c.8-.78.8-2.07 0-2.86zM5.41 20L4 18.59l7.72-7.72 1.47 1.35L5.41 20z\"/>\n",
              "  </svg>\n",
              "      </button>\n",
              "      \n",
              "  <style>\n",
              "    .colab-df-container {\n",
              "      display:flex;\n",
              "      flex-wrap:wrap;\n",
              "      gap: 12px;\n",
              "    }\n",
              "\n",
              "    .colab-df-convert {\n",
              "      background-color: #E8F0FE;\n",
              "      border: none;\n",
              "      border-radius: 50%;\n",
              "      cursor: pointer;\n",
              "      display: none;\n",
              "      fill: #1967D2;\n",
              "      height: 32px;\n",
              "      padding: 0 0 0 0;\n",
              "      width: 32px;\n",
              "    }\n",
              "\n",
              "    .colab-df-convert:hover {\n",
              "      background-color: #E2EBFA;\n",
              "      box-shadow: 0px 1px 2px rgba(60, 64, 67, 0.3), 0px 1px 3px 1px rgba(60, 64, 67, 0.15);\n",
              "      fill: #174EA6;\n",
              "    }\n",
              "\n",
              "    [theme=dark] .colab-df-convert {\n",
              "      background-color: #3B4455;\n",
              "      fill: #D2E3FC;\n",
              "    }\n",
              "\n",
              "    [theme=dark] .colab-df-convert:hover {\n",
              "      background-color: #434B5C;\n",
              "      box-shadow: 0px 1px 3px 1px rgba(0, 0, 0, 0.15);\n",
              "      filter: drop-shadow(0px 1px 2px rgba(0, 0, 0, 0.3));\n",
              "      fill: #FFFFFF;\n",
              "    }\n",
              "  </style>\n",
              "\n",
              "      <script>\n",
              "        const buttonEl =\n",
              "          document.querySelector('#df-22de1064-b055-40a6-a4a6-a6a479a07a0f button.colab-df-convert');\n",
              "        buttonEl.style.display =\n",
              "          google.colab.kernel.accessAllowed ? 'block' : 'none';\n",
              "\n",
              "        async function convertToInteractive(key) {\n",
              "          const element = document.querySelector('#df-22de1064-b055-40a6-a4a6-a6a479a07a0f');\n",
              "          const dataTable =\n",
              "            await google.colab.kernel.invokeFunction('convertToInteractive',\n",
              "                                                     [key], {});\n",
              "          if (!dataTable) return;\n",
              "\n",
              "          const docLinkHtml = 'Like what you see? Visit the ' +\n",
              "            '<a target=\"_blank\" href=https://colab.research.google.com/notebooks/data_table.ipynb>data table notebook</a>'\n",
              "            + ' to learn more about interactive tables.';\n",
              "          element.innerHTML = '';\n",
              "          dataTable['output_type'] = 'display_data';\n",
              "          await google.colab.output.renderOutput(dataTable, element);\n",
              "          const docLink = document.createElement('div');\n",
              "          docLink.innerHTML = docLinkHtml;\n",
              "          element.appendChild(docLink);\n",
              "        }\n",
              "      </script>\n",
              "    </div>\n",
              "  </div>\n",
              "  "
            ]
          },
          "metadata": {},
          "execution_count": 76
        }
      ]
    },
    {
      "cell_type": "code",
      "source": [
        "x=data[\"State\"]\n",
        "y=data[\"Yes\"]"
      ],
      "metadata": {
        "id": "GWNhQLZXnY_i"
      },
      "execution_count": 16,
      "outputs": []
    },
    {
      "cell_type": "code",
      "source": [
        "plt.plot(x,y)\n",
        "plt.show()"
      ],
      "metadata": {
        "colab": {
          "base_uri": "https://localhost:8080/",
          "height": 265
        },
        "id": "W7QY_hTHoTHb",
        "outputId": "f16ebb28-69dc-4d11-d4f7-737035f759db"
      },
      "execution_count": 17,
      "outputs": [
        {
          "output_type": "display_data",
          "data": {
            "text/plain": [
              "<Figure size 432x288 with 1 Axes>"
            ],
            "image/png": "[encoded data removed]"
          },
          "metadata": {
            "needs_background": "light"
          }
        }
      ]
    },
    {
      "cell_type": "code",
      "source": [
        "## example\n",
        "X = np.linspace(0, 2, 10)\n",
        "Y= X**2\n",
        "\n",
        "plt.plot(X, Y,color=\"r\")\n",
        "plt.show()"
      ],
      "metadata": {
        "colab": {
          "base_uri": "https://localhost:8080/",
          "height": 265
        },
        "id": "nIcnrt8bnZGq",
        "outputId": "4eb5b201-33b4-4ae6-be65-0def4125566a"
      },
      "execution_count": 11,
      "outputs": [
        {
          "output_type": "display_data",
          "data": {
            "text/plain": [
              "<Figure size 432x288 with 1 Axes>"
            ],
            "image/png": "[encoded data removed]"
          },
          "metadata": {
            "needs_background": "light"
          }
        }
      ]
    },
    {
      "cell_type": "code",
      "source": [
        "## example\n",
        "X = np.linspace(0, 2, 10)\n",
        "Y= X**2\n",
        "\n",
        "plt.plot(X, Y,color=\"y\")\n",
        "plt.show()"
      ],
      "metadata": {
        "colab": {
          "base_uri": "https://localhost:8080/",
          "height": 265
        },
        "id": "YxQ-ViSqnZLZ",
        "outputId": "ba930a21-55e4-499d-b538-c2991357a667"
      },
      "execution_count": 12,
      "outputs": [
        {
          "output_type": "display_data",
          "data": {
            "text/plain": [
              "<Figure size 432x288 with 1 Axes>"
            ],
            "image/png": "[encoded data removed]"
          },
          "metadata": {
            "needs_background": "light"
          }
        }
      ]
    },
    {
      "cell_type": "code",
      "source": [
        "plt.scatter(x, y,color=\"g\")\n",
        "plt.xlabel(\"State\") \n",
        "plt.ylabel(\"Yes\") \n",
        "plt.title(\"state /Yes\")\n",
        "plt.show()"
      ],
      "metadata": {
        "colab": {
          "base_uri": "https://localhost:8080/",
          "height": 295
        },
        "id": "jZVw7_BTnZRs",
        "outputId": "7aae8b50-b24e-4e74-bb3a-9b0363c14189"
      },
      "execution_count": 52,
      "outputs": [
        {
          "output_type": "display_data",
          "data": {
            "text/plain": [
              "<Figure size 432x288 with 1 Axes>"
            ],
            "image/png": "[encoded data removed]"
          },
          "metadata": {
            "needs_background": "light"
          }
        }
      ]
    },
    {
      "cell_type": "markdown",
      "source": [
        "### Graphic Styles\n",
        "There are many styles to add to charts. Here are the most important things to remember:\n",
        "- **c**: line color\n",
        "- **lw**: thickness of the line (for plot graphs)\n",
        "- **ls**: line style (for plot graphics)\n",
        "- **size**: point size (for scatter charts)\n",
        "- **marker**: dot style (for scatter charts)\n",
        "- **alpha**: chart transparency"
      ],
      "metadata": {
        "id": "5DqwVvWKou98"
      }
    },
    {
      "cell_type": "code",
      "source": [
        "x=df[\"State\"]\n",
        "y=df[\"Yes\"]"
      ],
      "metadata": {
        "id": "MHoyUAjRpGN9"
      },
      "execution_count": 77,
      "outputs": []
    },
    {
      "cell_type": "code",
      "source": [
        "plt.plot(x, y, c='red', lw=4, ls='--', alpha=0.8)\n",
        "plt.show()"
      ],
      "metadata": {
        "colab": {
          "base_uri": "https://localhost:8080/",
          "height": 265
        },
        "id": "lYzL5sY3hshW",
        "outputId": "f026c41d-2100-45c7-8ba0-5937092439fd"
      },
      "execution_count": 25,
      "outputs": [
        {
          "output_type": "display_data",
          "data": {
            "text/plain": [
              "<Figure size 432x288 with 1 Axes>"
            ],
            "image/png": "[encoded data removed]"
          },
          "metadata": {
            "needs_background": "light"
          }
        }
      ]
    },
    {
      "cell_type": "markdown",
      "source": [
        "## 2. Life cycle of a figure\n",
        "To create figures properly, we must follow the following life cycle:\n",
        "1. **plt.figure**(figsize())\n",
        "2. **plt.plot()**\n",
        "3. Extras (title, axes, legends)\n",
        "4. **plt.show()**"
      ],
      "metadata": {
        "id": "NJUzy9IupXk7"
      }
    },
    {
      "cell_type": "code",
      "source": [
        "x1=df[\"State\"]\n",
        "y1=df[\"No\"]"
      ],
      "metadata": {
        "id": "aoznR5eEpu-c"
      },
      "execution_count": 35,
      "outputs": []
    },
    {
      "cell_type": "code",
      "source": [
        "# example\n",
        "X = np.linspace(0, 2, 10)\n",
        "\n",
        "plt.figure() # Create a figure\n",
        "plt.plot(X, X**2, label='quadratic') # first plot\n",
        "plt.plot(X, X**3, label='cubic') # second plot\n",
        "# Extra information\n",
        "plt.title('figure 1') # title\n",
        "plt.xlabel('axis x') # axes\n",
        "plt.ylabel('y axis') # axes\n",
        "plt. legend() # legend\n",
        "\n",
        "plt.savefig('figure.png') # save the figure in the working directory\n",
        "plt.show() # display the figure\n"
      ],
      "metadata": {
        "colab": {
          "base_uri": "https://localhost:8080/",
          "height": 295
        },
        "id": "aW38hT7VpbZo",
        "outputId": "cdb52dcf-ec33-4c9a-987f-a0df2582b216"
      },
      "execution_count": 29,
      "outputs": [
        {
          "output_type": "display_data",
          "data": {
            "text/plain": [
              "<Figure size 432x288 with 1 Axes>"
            ],
            "image/png": "[encoded data removed]"
          },
          "metadata": {
            "needs_background": "light"
          }
        }
      ]
    },
    {
      "cell_type": "code",
      "source": [
        "a = np.linspace(0, 2, 100)  # Sample data.\n",
        "\n",
        "# Note that even in the OO-style, we use `.pyplot.figure` to create the Figure.\n",
        "fig, ax = plt.subplots(figsize=(5, 2.7))\n",
        "ax.plot(a, a, label='linear')  # Plot some data on the axes.\n",
        "ax.plot(a, a**2, label='quadratic')  # Plot more data on the axes...\n",
        "ax.plot(a, a**3, label='cubic')  # ... and some more.\n",
        "ax.set_xlabel('x label')  # Add an x-label to the axes.\n",
        "ax.set_ylabel('y label')  # Add a y-label to the axes.\n",
        "ax.set_title(\"Simple Plot\")  # Add a title to the axes.\n",
        "ax.legend();  # Add a legend."
      ],
      "metadata": {
        "colab": {
          "base_uri": "https://localhost:8080/",
          "height": 225
        },
        "id": "Wnz95M8h0ASM",
        "outputId": "d202e01a-ed5e-456d-84cb-6beb8c6730d3"
      },
      "execution_count": 72,
      "outputs": [
        {
          "output_type": "display_data",
          "data": {
            "text/plain": [
              "<Figure size 360x194.4 with 1 Axes>"
            ],
            "image/png": "[encoded data removed]"
          },
          "metadata": {
            "needs_background": "light"
          }
        }
      ]
    },
    {
      "cell_type": "markdown",
      "source": [
        "## 3. Subplots\n",
        "Subplots are another element to add to create several graphs on the same figure"
      ],
      "metadata": {
        "id": "kKWU_crtqR2G"
      }
    },
    {
      "cell_type": "code",
      "source": [
        "plt.subplot(2, 1, 1)\n",
        "plt.plot(X, y, c='red')\n",
        "plt.subplot(2, 1, 2)\n",
        "plt.plot(X, y, c='blue')"
      ],
      "metadata": {
        "colab": {
          "base_uri": "https://localhost:8080/",
          "height": 283
        },
        "id": "Y-QcjPfcqS3v",
        "outputId": "f083fcaf-5885-448e-d0f6-a382043890d2"
      },
      "execution_count": 33,
      "outputs": [
        {
          "output_type": "execute_result",
          "data": {
            "text/plain": [
              "[<matplotlib.lines.Line2D at 0x7f230c307a00>]"
            ]
          },
          "metadata": {},
          "execution_count": 33
        },
        {
          "output_type": "display_data",
          "data": {
            "text/plain": [
              "<Figure size 432x288 with 2 Axes>"
            ],
            "image/png": "[encoded data removed]"
          },
          "metadata": {
            "needs_background": "light"
          }
        }
      ]
    },
    {
      "cell_type": "markdown",
      "source": [
        "## Barplot"
      ],
      "metadata": {
        "id": "lgImHJ_euT3U"
      }
    },
    {
      "cell_type": "code",
      "source": [
        "plt.bar(x,y)## barplot for Yes \n",
        "plt.xlabel(\"State\") \n",
        "plt.ylabel(\"Yes\") \n",
        "plt.title(\"state /Yes\")\n",
        "plt.show()"
      ],
      "metadata": {
        "colab": {
          "base_uri": "https://localhost:8080/",
          "height": 295
        },
        "id": "rXUslrTKpbgX",
        "outputId": "16269588-5d2c-414e-c2d8-524d61f07bfb"
      },
      "execution_count": 47,
      "outputs": [
        {
          "output_type": "display_data",
          "data": {
            "text/plain": [
              "<Figure size 432x288 with 1 Axes>"
            ],
            "image/png": "[encoded data removed]"
          },
          "metadata": {
            "needs_background": "light"
          }
        }
      ]
    },
    {
      "cell_type": "code",
      "source": [
        "## barplot for No\n",
        "plt.bar(x1,y1,color=\"r\")\n",
        "plt.xlabel(\"State\") \n",
        "plt.ylabel(\"No\") \n",
        "plt.title(\"state /No\")\n",
        "plt.show()"
      ],
      "metadata": {
        "colab": {
          "base_uri": "https://localhost:8080/",
          "height": 295
        },
        "id": "LZGiGhcbpbnk",
        "outputId": "345b7a8e-d4b3-4345-bb00-f102c9455c49"
      },
      "execution_count": 46,
      "outputs": [
        {
          "output_type": "display_data",
          "data": {
            "text/plain": [
              "<Figure size 432x288 with 1 Axes>"
            ],
            "image/png": "[encoded data removed]"
          },
          "metadata": {
            "needs_background": "light"
          }
        }
      ]
    },
    {
      "cell_type": "markdown",
      "source": [
        "## Pie Charts"
      ],
      "metadata": {
        "id": "HQAcaiw4xKzv"
      }
    },
    {
      "cell_type": "code",
      "source": [
        "fig, ax = plt.subplots()\n",
        "ax.pie(y, labels=x, autopct='%1.1f%%')\n",
        "ax.axis('equal')  # Equal aspect ratio ensures the pie chart is circular.\n",
        "ax.set_title('State/ YES')"
      ],
      "metadata": {
        "colab": {
          "base_uri": "https://localhost:8080/",
          "height": 281
        },
        "id": "lPsgGYP5pb0h",
        "outputId": "7433a2a2-5e7e-4edb-c632-779ccd5801fb"
      },
      "execution_count": 48,
      "outputs": [
        {
          "output_type": "execute_result",
          "data": {
            "text/plain": [
              "Text(0.5, 1.0, 'State/ YES')"
            ]
          },
          "metadata": {},
          "execution_count": 48
        },
        {
          "output_type": "display_data",
          "data": {
            "text/plain": [
              "<Figure size 432x288 with 1 Axes>"
            ],
            "image/png": "[encoded data removed]"
          },
          "metadata": {}
        }
      ]
    },
    {
      "cell_type": "markdown",
      "source": [],
      "metadata": {
        "id": "aorLKupMsbi7"
      }
    },
    {
      "cell_type": "markdown",
      "source": [
        "## Box plot\n",
        "example"
      ],
      "metadata": {
        "id": "R9ozWkpVzJsH"
      }
    },
    {
      "cell_type": "code",
      "source": [
        "\n",
        "df = pd.DataFrame(np.random.randn(10, 3),\n",
        "                  columns=['Col1', 'Col2', 'Col3'])\n",
        "df['X'] = pd.Series(['A', 'A', 'A', 'A', 'A',\n",
        "                     'B', 'B', 'B', 'B', 'B'])\n",
        "df['Y'] = pd.Series(['A', 'B', 'A', 'B', 'A',\n",
        "                     'B', 'A', 'B', 'A', 'B'])\n",
        "boxplot = df.boxplot(column=['Col1', 'Col2'], by=['X', 'Y'])"
      ],
      "metadata": {
        "colab": {
          "base_uri": "https://localhost:8080/",
          "height": 301
        },
        "id": "lhYrYly4pb5a",
        "outputId": "23fa0f7a-7b97-4a6e-eb78-de26d758d1a8"
      },
      "execution_count": 70,
      "outputs": [
        {
          "output_type": "display_data",
          "data": {
            "text/plain": [
              "<Figure size 432x288 with 2 Axes>"
            ],
            "image/png": "[encoded data removed]"
          },
          "metadata": {
            "needs_background": "light"
          }
        }
      ]
    },
    {
      "cell_type": "code",
      "source": [
        "fig, ax = plt.subplots(figsize=(5, 2.7))\n",
        "ax.plot(df.Yes, 'o', label='YES')\n",
        "ax.plot(df.No, 'd', label='NO')\n",
        "ax.plot(df.PercentYes, 'v', label='PERCENT YES')\n",
        "ax.plot(df.PercentNo, 's', label='PERCENT NO')\n",
        "ax.legend();"
      ],
      "metadata": {
        "colab": {
          "base_uri": "https://localhost:8080/",
          "height": 195
        },
        "id": "KJMmKU5opb-3",
        "outputId": "7785cc8c-8fe1-4d98-fbdc-d6bd080f5f2b"
      },
      "execution_count": 80,
      "outputs": [
        {
          "output_type": "display_data",
          "data": {
            "text/plain": [
              "<Figure size 360x194.4 with 1 Axes>"
            ],
            "image/png": "[encoded data removed]"
          },
          "metadata": {
            "needs_background": "light"
          }
        }
      ]
    },
    {
      "cell_type": "code",
      "source": [],
      "metadata": {
        "id": "2x48zZAU1f8c"
      },
      "execution_count": null,
      "outputs": []
    }
  ]
}