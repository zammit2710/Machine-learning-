{
  "nbformat": 4,
  "nbformat_minor": 0,
  "metadata": {
    "colab": {
      "provenance": []
    },
    "kernelspec": {
      "name": "python3",
      "display_name": "Python 3"
    }
  },
  "cells": [
    {
      "cell_type": "markdown",
      "metadata": {
        "id": "kPpCo82Kj-HT"
      },
      "source": [
        "# ndarray array"
      ]
    },
    {
      "cell_type": "code",
      "metadata": {
        "id": "1pmhE3K-j8uk"
      },
      "source": [
        "import numpy as np"
      ],
      "execution_count": 1,
      "outputs": []
    },
    {
      "cell_type": "code",
      "metadata": {
        "id": "FAALhYpise2W"
      },
      "source": [
        "A = np.array([1, 2, 3]) # default generator, which converts lists (or other objects) into an ndarray array\n",
        "A = np.zeros((2, 3)) # array of 0s with dimensions 2x3\n",
        "B = np.ones((2, 3)) # array of 1s with dimensions 2x3\n",
        "C = np.random.randn(2, 3) # random array (normal distribution) with dimensions 2x3\n",
        "D = np.random.rand(2, 3) # random array (uniform distribution)\n",
        " \n",
        "E = np.random.randint(0, 10, [2, 3]) # array of random integers from 0 to 10 and of dimension 2x3"
      ],
      "execution_count": 2,
      "outputs": []
    },
    {
      "cell_type": "code",
      "metadata": {
        "id": "qlCQKYHvsij7",
        "colab": {
          "base_uri": "https://localhost:8080/"
        },
        "outputId": "cacec7c4-cf41-4e76-8abd-cc94d74b4b09"
      },
      "source": [
        "A = np.ones((2, 3), dtype=np.float16) # define the type and the place to occupy on the memory\n",
        "B = np.eye(4, dtype=np.bool) # create identity matrix and convert elements to type bool."
      ],
      "execution_count": 3,
      "outputs": [
        {
          "output_type": "stream",
          "name": "stderr",
          "text": [
            "<ipython-input-3-aee19ee7a8dc>:2: DeprecationWarning: `np.bool` is a deprecated alias for the builtin `bool`. To silence this warning, use `bool` by itself. Doing this will not modify any behavior and is safe. If you specifically wanted the numpy scalar type, use `np.bool_` here.\n",
            "Deprecated in NumPy 1.20; for more details and guidance: https://numpy.org/devdocs/release/1.20.0-notes.html#deprecations\n",
            "  B = np.eye(4, dtype=np.bool) # create identity matrix and convert elements to type bool.\n"
          ]
        }
      ]
    },
    {
      "cell_type": "code",
      "metadata": {
        "id": "2_wG1YYM3cKL"
      },
      "source": [
        "A = np.linspace(1,10, 10)\n",
        "B = np.arange(0, 10, 10)"
      ],
      "execution_count": 4,
      "outputs": []
    },
    {
      "cell_type": "code",
      "source": [
        "A"
      ],
      "metadata": {
        "colab": {
          "base_uri": "https://localhost:8080/"
        },
        "id": "qW-bf-CeKgga",
        "outputId": "7bdeb953-7cbd-4cb0-d776-6fa53125ba62"
      },
      "execution_count": 5,
      "outputs": [
        {
          "output_type": "execute_result",
          "data": {
            "text/plain": [
              "array([ 1.,  2.,  3.,  4.,  5.,  6.,  7.,  8.,  9., 10.])"
            ]
          },
          "metadata": {},
          "execution_count": 5
        }
      ]
    },
    {
      "cell_type": "code",
      "source": [
        "B"
      ],
      "metadata": {
        "colab": {
          "base_uri": "https://localhost:8080/"
        },
        "id": "lqzNSr1Lg-q3",
        "outputId": "18ce2be0-57db-4664-b6ad-12dfddc2b508"
      },
      "execution_count": 6,
      "outputs": [
        {
          "output_type": "execute_result",
          "data": {
            "text/plain": [
              "array([0])"
            ]
          },
          "metadata": {},
          "execution_count": 6
        }
      ]
    },
    {
      "cell_type": "markdown",
      "metadata": {
        "id": "O0gPhrkatFCq"
      },
      "source": [
        "##  Important Attributes:\n",
        "- size\n",
        "- shape"
      ]
    },
    {
      "cell_type": "code",
      "metadata": {
        "id": "49om7hC7s7PY",
        "colab": {
          "base_uri": "https://localhost:8080/"
        },
        "outputId": "4531798b-8fdd-43a9-8d87-a960e2f617b6"
      },
      "source": [
        "A = np.zeros((2, 3)) # creating an array of shape (2, 3)\n",
        " \n",
        "print(A.size) # the number of elements in array A\n",
        "print(A.shape) # the dimensions of array A (as a tuple)\n",
        " \n",
        "print(type(A.shape)) # here is the proof that the shape is a tuple\n",
        " \n",
        "print(A.shape[0]) # the number of elements in the first dimension of A"
      ],
      "execution_count": 7,
      "outputs": [
        {
          "output_type": "stream",
          "name": "stdout",
          "text": [
            "6\n",
            "(2, 3)\n",
            "<class 'tuple'>\n",
            "2\n"
          ]
        }
      ]
    },
    {
      "cell_type": "markdown",
      "metadata": {
        "id": "LJxuYLLptW4U"
      },
      "source": [
        "##  Important Methods"
      ]
    },
    {
      "cell_type": "code",
      "metadata": {
        "id": "nzys1OiQtTS1",
        "colab": {
          "base_uri": "https://localhost:8080/"
        },
        "outputId": "712b8c9c-2c8a-4e6f-bf73-9b0f0eb2e38e"
      },
      "source": [
        "A = np.zeros((2, 3)) # creating an array of shape (2, 3)\n",
        " \n",
        "A = A.reshape((3, 2)) # resize array A (3 rows, 2 columns)\n",
        "A.ravel() # Flattens array A (one dimension only)\n",
        "A.squeeze() # eliminates \"1\" dimensions from A."
      ],
      "execution_count": 8,
      "outputs": [
        {
          "output_type": "execute_result",
          "data": {
            "text/plain": [
              "array([[0., 0.],\n",
              "       [0., 0.],\n",
              "       [0., 0.]])"
            ]
          },
          "metadata": {},
          "execution_count": 8
        }
      ]
    },
    {
      "cell_type": "code",
      "metadata": {
        "id": "1sBGP0vxtlNT",
        "colab": {
          "base_uri": "https://localhost:8080/"
        },
        "outputId": "26323216-e2e8-4506-c31b-4a9a904e7431"
      },
      "source": [
        "A = np.zeros((2, 3)) # creating an array of shape (2, 3)\n",
        "B = np.ones((2, 3)) # creating an array of shape (2, 3)\n",
        "\n",
        "np.concatenate((A, B), axis=0) # axis 0: equivalent of np.vstack((A, B))"
      ],
      "execution_count": 9,
      "outputs": [
        {
          "output_type": "execute_result",
          "data": {
            "text/plain": [
              "array([[0., 0., 0.],\n",
              "       [0., 0., 0.],\n",
              "       [1., 1., 1.],\n",
              "       [1., 1., 1.]])"
            ]
          },
          "metadata": {},
          "execution_count": 9
        }
      ]
    },
    {
      "cell_type": "code",
      "metadata": {
        "id": "Ped85c9YuN5t",
        "colab": {
          "base_uri": "https://localhost:8080/"
        },
        "outputId": "3cc69e11-5121-4aea-a60a-b08670d5a259"
      },
      "source": [
        "np.concatenate((A, B), axis=1) # axis 1: equivalent of np.hstack((A, B))"
      ],
      "execution_count": 11,
      "outputs": [
        {
          "output_type": "execute_result",
          "data": {
            "text/plain": [
              "array([[0., 0., 0., 1., 1., 1.],\n",
              "       [0., 0., 0., 1., 1., 1.]])"
            ]
          },
          "metadata": {},
          "execution_count": 11
        }
      ]
    }
  ]
}