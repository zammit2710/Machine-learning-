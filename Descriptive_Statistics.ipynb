{
  "cells": [
    {
      "cell_type": "markdown",
      "metadata": {
        "id": "_fIdEKetX3Aj"
      },
      "source": [
        "## Import libraries"
      ]
    },
    {
      "cell_type": "code",
      "execution_count": 1,
      "metadata": {
        "id": "EoY4gIhOX3Al"
      },
      "outputs": [],
      "source": [
        "import pandas as pd\n",
        "import numpy as np\n",
        "import matplotlib.pyplot as plt\n",
        "import seaborn as sns\n",
        "%matplotlib inline"
      ]
    },
    {
      "cell_type": "code",
      "source": [
        "## if you use google colab add the following library to read files in drive\n",
        "import warnings\n",
        "warnings.filterwarnings(\"ignore\")\n",
        "warnings.filterwarnings(\"ignore\", category=DeprecationWarning)\n",
        "from google.colab import drive\n",
        "drive.mount('/content/drive')\n"
      ],
      "metadata": {
        "colab": {
          "base_uri": "https://localhost:8080/"
        },
        "id": "MQfRpBDuiCRV",
        "outputId": "dd76b245-1577-47ab-a9cc-45386bdecefb"
      },
      "execution_count": 2,
      "outputs": [
        {
          "output_type": "stream",
          "name": "stdout",
          "text": [
            "Mounted at /content/drive\n"
          ]
        }
      ]
    },
    {
      "cell_type": "markdown",
      "metadata": {
        "id": "HzGdCA9bX3Av"
      },
      "source": [
        "## Import dataset"
      ]
    },
    {
      "cell_type": "code",
      "source": [
        "data= pd.read_csv('/content/drive/MyDrive/pollingData.csv')\n",
        "data"
      ],
      "metadata": {
        "colab": {
          "base_uri": "https://localhost:8080/",
          "height": 1000
        },
        "id": "3QGE7F2BiSD8",
        "outputId": "ef6e1403-86b2-4023-c41c-b0af01876e4e"
      },
      "execution_count": 23,
      "outputs": [
        {
          "output_type": "execute_result",
          "data": {
            "text/plain": [
              "             State   Yes    No  Total  PercentYes  PercentNo\n",
              "0         Delaware   228   111    339        0.67       0.33\n",
              "1       New Mexico   108    63    171        0.63       0.37\n",
              "2   North Carolina   724   429   1153        0.63       0.37\n",
              "3           Nevada   213   127    340        0.63       0.37\n",
              "4             Ohio   988   607   1595        0.62       0.38\n",
              "5          Arizona   332   204    536        0.62       0.38\n",
              "6       Mississipi   242   151    393        0.62       0.38\n",
              "7   South Carolina   235   148    383        0.61       0.39\n",
              "8          Indiana   595   376    971        0.61       0.39\n",
              "9         Maryland   512   326    838        0.61       0.39\n",
              "10    South Dakota   116    74    190        0.61       0.39\n",
              "11          Alaska    57    37     94        0.61       0.39\n",
              "12        Oklahoma   409   266    675        0.61       0.39\n",
              "13       Tennessee   402   264    666        0.60       0.40\n",
              "14          Hawaii    44    29     73        0.60       0.40\n",
              "15      California  1849  1220   3069        0.60       0.40\n",
              "16         Florida   982   649   1631        0.60       0.40\n",
              "17            Utah   234   155    389        0.60       0.40\n",
              "18           Texas  1686  1125   2811        0.60       0.40\n",
              "19        Kentucky   337   253    590        0.57       0.43\n",
              "20          Oregon   658   446   1104        0.60       0.40\n",
              "21        Missouri   601   409   1010        0.60       0.40\n",
              "22   New Hampshire   273   187    460        0.59       0.41\n",
              "23       Louisiana   275   189    464        0.59       0.41\n",
              "24        Colorado   453   316    769        0.59       0.41\n",
              "25    Pennsylvania  1619  1137   2756        0.59       0.41\n",
              "26        Arkansas   385   271    656        0.59       0.41\n",
              "27        Virginia   867   611   1478        0.59       0.41\n",
              "28        Nebraska   170   122    292        0.58       0.42\n",
              "29       Wisconsin   681   491   1172        0.58       0.42\n",
              "30          Kansas   394   287    681        0.58       0.42\n",
              "31        Michigan  1320   972   2292        0.58       0.42\n",
              "32         Montana   167   125    292        0.57       0.43\n",
              "33           Idaho   193   145    338        0.57       0.43\n",
              "34      Washington  1006   758   1764        0.57       0.43\n",
              "35    Rhode Island    91    69    160        0.57       0.43\n",
              "36         Georgia   290   221    511        0.57       0.43\n",
              "37        Illinois  1292   985   2277        0.57       0.43\n",
              "38        New York  3163  2433   5596        0.57       0.43\n",
              "39     Connecticut   665   512   1177        0.56       0.44\n",
              "40       Minnesota   602   466   1068        0.56       0.44\n",
              "41         Alabama   328   255    583        0.56       0.44\n",
              "42         Wyoming   105    82    187        0.56       0.44\n",
              "43            Iowa   445   357    802        0.55       0.45\n",
              "44      New Jersey  1293  1039   2332        0.55       0.45\n",
              "45   Massachusetts  1088   892   1980        0.55       0.45\n",
              "46         Vermont   119   108    227        0.52       0.48\n",
              "47           Maine   382   360    742        0.51       0.49\n",
              "48   West Virginia   257   247    504        0.51       0.49\n",
              "49    North Dakota    59    58    117        0.50       0.50"
            ],
            "text/html": [
              "\n",
              "  <div id=\"df-49156622-eb9f-464d-b17b-66f3b33026b6\">\n",
              "    <div class=\"colab-df-container\">\n",
              "      <div>\n",
              "<style scoped>\n",
              "    .dataframe tbody tr th:only-of-type {\n",
              "        vertical-align: middle;\n",
              "    }\n",
              "\n",
              "    .dataframe tbody tr th {\n",
              "        vertical-align: top;\n",
              "    }\n",
              "\n",
              "    .dataframe thead th {\n",
              "        text-align: right;\n",
              "    }\n",
              "</style>\n",
              "<table border=\"1\" class=\"dataframe\">\n",
              "  <thead>\n",
              "    <tr style=\"text-align: right;\">\n",
              "      <th></th>\n",
              "      <th>State</th>\n",
              "      <th>Yes</th>\n",
              "      <th>No</th>\n",
              "      <th>Total</th>\n",
              "      <th>PercentYes</th>\n",
              "      <th>PercentNo</th>\n",
              "    </tr>\n",
              "  </thead>\n",
              "  <tbody>\n",
              "    <tr>\n",
              "      <th>0</th>\n",
              "      <td>Delaware</td>\n",
              "      <td>228</td>\n",
              "      <td>111</td>\n",
              "      <td>339</td>\n",
              "      <td>0.67</td>\n",
              "      <td>0.33</td>\n",
              "    </tr>\n",
              "    <tr>\n",
              "      <th>1</th>\n",
              "      <td>New Mexico</td>\n",
              "      <td>108</td>\n",
              "      <td>63</td>\n",
              "      <td>171</td>\n",
              "      <td>0.63</td>\n",
              "      <td>0.37</td>\n",
              "    </tr>\n",
              "    <tr>\n",
              "      <th>2</th>\n",
              "      <td>North Carolina</td>\n",
              "      <td>724</td>\n",
              "      <td>429</td>\n",
              "      <td>1153</td>\n",
              "      <td>0.63</td>\n",
              "      <td>0.37</td>\n",
              "    </tr>\n",
              "    <tr>\n",
              "      <th>3</th>\n",
              "      <td>Nevada</td>\n",
              "      <td>213</td>\n",
              "      <td>127</td>\n",
              "      <td>340</td>\n",
              "      <td>0.63</td>\n",
              "      <td>0.37</td>\n",
              "    </tr>\n",
              "    <tr>\n",
              "      <th>4</th>\n",
              "      <td>Ohio</td>\n",
              "      <td>988</td>\n",
              "      <td>607</td>\n",
              "      <td>1595</td>\n",
              "      <td>0.62</td>\n",
              "      <td>0.38</td>\n",
              "    </tr>\n",
              "    <tr>\n",
              "      <th>5</th>\n",
              "      <td>Arizona</td>\n",
              "      <td>332</td>\n",
              "      <td>204</td>\n",
              "      <td>536</td>\n",
              "      <td>0.62</td>\n",
              "      <td>0.38</td>\n",
              "    </tr>\n",
              "    <tr>\n",
              "      <th>6</th>\n",
              "      <td>Mississipi</td>\n",
              "      <td>242</td>\n",
              "      <td>151</td>\n",
              "      <td>393</td>\n",
              "      <td>0.62</td>\n",
              "      <td>0.38</td>\n",
              "    </tr>\n",
              "    <tr>\n",
              "      <th>7</th>\n",
              "      <td>South Carolina</td>\n",
              "      <td>235</td>\n",
              "      <td>148</td>\n",
              "      <td>383</td>\n",
              "      <td>0.61</td>\n",
              "      <td>0.39</td>\n",
              "    </tr>\n",
              "    <tr>\n",
              "      <th>8</th>\n",
              "      <td>Indiana</td>\n",
              "      <td>595</td>\n",
              "      <td>376</td>\n",
              "      <td>971</td>\n",
              "      <td>0.61</td>\n",
              "      <td>0.39</td>\n",
              "    </tr>\n",
              "    <tr>\n",
              "      <th>9</th>\n",
              "      <td>Maryland</td>\n",
              "      <td>512</td>\n",
              "      <td>326</td>\n",
              "      <td>838</td>\n",
              "      <td>0.61</td>\n",
              "      <td>0.39</td>\n",
              "    </tr>\n",
              "    <tr>\n",
              "      <th>10</th>\n",
              "      <td>South Dakota</td>\n",
              "      <td>116</td>\n",
              "      <td>74</td>\n",
              "      <td>190</td>\n",
              "      <td>0.61</td>\n",
              "      <td>0.39</td>\n",
              "    </tr>\n",
              "    <tr>\n",
              "      <th>11</th>\n",
              "      <td>Alaska</td>\n",
              "      <td>57</td>\n",
              "      <td>37</td>\n",
              "      <td>94</td>\n",
              "      <td>0.61</td>\n",
              "      <td>0.39</td>\n",
              "    </tr>\n",
              "    <tr>\n",
              "      <th>12</th>\n",
              "      <td>Oklahoma</td>\n",
              "      <td>409</td>\n",
              "      <td>266</td>\n",
              "      <td>675</td>\n",
              "      <td>0.61</td>\n",
              "      <td>0.39</td>\n",
              "    </tr>\n",
              "    <tr>\n",
              "      <th>13</th>\n",
              "      <td>Tennessee</td>\n",
              "      <td>402</td>\n",
              "      <td>264</td>\n",
              "      <td>666</td>\n",
              "      <td>0.60</td>\n",
              "      <td>0.40</td>\n",
              "    </tr>\n",
              "    <tr>\n",
              "      <th>14</th>\n",
              "      <td>Hawaii</td>\n",
              "      <td>44</td>\n",
              "      <td>29</td>\n",
              "      <td>73</td>\n",
              "      <td>0.60</td>\n",
              "      <td>0.40</td>\n",
              "    </tr>\n",
              "    <tr>\n",
              "      <th>15</th>\n",
              "      <td>California</td>\n",
              "      <td>1849</td>\n",
              "      <td>1220</td>\n",
              "      <td>3069</td>\n",
              "      <td>0.60</td>\n",
              "      <td>0.40</td>\n",
              "    </tr>\n",
              "    <tr>\n",
              "      <th>16</th>\n",
              "      <td>Florida</td>\n",
              "      <td>982</td>\n",
              "      <td>649</td>\n",
              "      <td>1631</td>\n",
              "      <td>0.60</td>\n",
              "      <td>0.40</td>\n",
              "    </tr>\n",
              "    <tr>\n",
              "      <th>17</th>\n",
              "      <td>Utah</td>\n",
              "      <td>234</td>\n",
              "      <td>155</td>\n",
              "      <td>389</td>\n",
              "      <td>0.60</td>\n",
              "      <td>0.40</td>\n",
              "    </tr>\n",
              "    <tr>\n",
              "      <th>18</th>\n",
              "      <td>Texas</td>\n",
              "      <td>1686</td>\n",
              "      <td>1125</td>\n",
              "      <td>2811</td>\n",
              "      <td>0.60</td>\n",
              "      <td>0.40</td>\n",
              "    </tr>\n",
              "    <tr>\n",
              "      <th>19</th>\n",
              "      <td>Kentucky</td>\n",
              "      <td>337</td>\n",
              "      <td>253</td>\n",
              "      <td>590</td>\n",
              "      <td>0.57</td>\n",
              "      <td>0.43</td>\n",
              "    </tr>\n",
              "    <tr>\n",
              "      <th>20</th>\n",
              "      <td>Oregon</td>\n",
              "      <td>658</td>\n",
              "      <td>446</td>\n",
              "      <td>1104</td>\n",
              "      <td>0.60</td>\n",
              "      <td>0.40</td>\n",
              "    </tr>\n",
              "    <tr>\n",
              "      <th>21</th>\n",
              "      <td>Missouri</td>\n",
              "      <td>601</td>\n",
              "      <td>409</td>\n",
              "      <td>1010</td>\n",
              "      <td>0.60</td>\n",
              "      <td>0.40</td>\n",
              "    </tr>\n",
              "    <tr>\n",
              "      <th>22</th>\n",
              "      <td>New Hampshire</td>\n",
              "      <td>273</td>\n",
              "      <td>187</td>\n",
              "      <td>460</td>\n",
              "      <td>0.59</td>\n",
              "      <td>0.41</td>\n",
              "    </tr>\n",
              "    <tr>\n",
              "      <th>23</th>\n",
              "      <td>Louisiana</td>\n",
              "      <td>275</td>\n",
              "      <td>189</td>\n",
              "      <td>464</td>\n",
              "      <td>0.59</td>\n",
              "      <td>0.41</td>\n",
              "    </tr>\n",
              "    <tr>\n",
              "      <th>24</th>\n",
              "      <td>Colorado</td>\n",
              "      <td>453</td>\n",
              "      <td>316</td>\n",
              "      <td>769</td>\n",
              "      <td>0.59</td>\n",
              "      <td>0.41</td>\n",
              "    </tr>\n",
              "    <tr>\n",
              "      <th>25</th>\n",
              "      <td>Pennsylvania</td>\n",
              "      <td>1619</td>\n",
              "      <td>1137</td>\n",
              "      <td>2756</td>\n",
              "      <td>0.59</td>\n",
              "      <td>0.41</td>\n",
              "    </tr>\n",
              "    <tr>\n",
              "      <th>26</th>\n",
              "      <td>Arkansas</td>\n",
              "      <td>385</td>\n",
              "      <td>271</td>\n",
              "      <td>656</td>\n",
              "      <td>0.59</td>\n",
              "      <td>0.41</td>\n",
              "    </tr>\n",
              "    <tr>\n",
              "      <th>27</th>\n",
              "      <td>Virginia</td>\n",
              "      <td>867</td>\n",
              "      <td>611</td>\n",
              "      <td>1478</td>\n",
              "      <td>0.59</td>\n",
              "      <td>0.41</td>\n",
              "    </tr>\n",
              "    <tr>\n",
              "      <th>28</th>\n",
              "      <td>Nebraska</td>\n",
              "      <td>170</td>\n",
              "      <td>122</td>\n",
              "      <td>292</td>\n",
              "      <td>0.58</td>\n",
              "      <td>0.42</td>\n",
              "    </tr>\n",
              "    <tr>\n",
              "      <th>29</th>\n",
              "      <td>Wisconsin</td>\n",
              "      <td>681</td>\n",
              "      <td>491</td>\n",
              "      <td>1172</td>\n",
              "      <td>0.58</td>\n",
              "      <td>0.42</td>\n",
              "    </tr>\n",
              "    <tr>\n",
              "      <th>30</th>\n",
              "      <td>Kansas</td>\n",
              "      <td>394</td>\n",
              "      <td>287</td>\n",
              "      <td>681</td>\n",
              "      <td>0.58</td>\n",
              "      <td>0.42</td>\n",
              "    </tr>\n",
              "    <tr>\n",
              "      <th>31</th>\n",
              "      <td>Michigan</td>\n",
              "      <td>1320</td>\n",
              "      <td>972</td>\n",
              "      <td>2292</td>\n",
              "      <td>0.58</td>\n",
              "      <td>0.42</td>\n",
              "    </tr>\n",
              "    <tr>\n",
              "      <th>32</th>\n",
              "      <td>Montana</td>\n",
              "      <td>167</td>\n",
              "      <td>125</td>\n",
              "      <td>292</td>\n",
              "      <td>0.57</td>\n",
              "      <td>0.43</td>\n",
              "    </tr>\n",
              "    <tr>\n",
              "      <th>33</th>\n",
              "      <td>Idaho</td>\n",
              "      <td>193</td>\n",
              "      <td>145</td>\n",
              "      <td>338</td>\n",
              "      <td>0.57</td>\n",
              "      <td>0.43</td>\n",
              "    </tr>\n",
              "    <tr>\n",
              "      <th>34</th>\n",
              "      <td>Washington</td>\n",
              "      <td>1006</td>\n",
              "      <td>758</td>\n",
              "      <td>1764</td>\n",
              "      <td>0.57</td>\n",
              "      <td>0.43</td>\n",
              "    </tr>\n",
              "    <tr>\n",
              "      <th>35</th>\n",
              "      <td>Rhode Island</td>\n",
              "      <td>91</td>\n",
              "      <td>69</td>\n",
              "      <td>160</td>\n",
              "      <td>0.57</td>\n",
              "      <td>0.43</td>\n",
              "    </tr>\n",
              "    <tr>\n",
              "      <th>36</th>\n",
              "      <td>Georgia</td>\n",
              "      <td>290</td>\n",
              "      <td>221</td>\n",
              "      <td>511</td>\n",
              "      <td>0.57</td>\n",
              "      <td>0.43</td>\n",
              "    </tr>\n",
              "    <tr>\n",
              "      <th>37</th>\n",
              "      <td>Illinois</td>\n",
              "      <td>1292</td>\n",
              "      <td>985</td>\n",
              "      <td>2277</td>\n",
              "      <td>0.57</td>\n",
              "      <td>0.43</td>\n",
              "    </tr>\n",
              "    <tr>\n",
              "      <th>38</th>\n",
              "      <td>New York</td>\n",
              "      <td>3163</td>\n",
              "      <td>2433</td>\n",
              "      <td>5596</td>\n",
              "      <td>0.57</td>\n",
              "      <td>0.43</td>\n",
              "    </tr>\n",
              "    <tr>\n",
              "      <th>39</th>\n",
              "      <td>Connecticut</td>\n",
              "      <td>665</td>\n",
              "      <td>512</td>\n",
              "      <td>1177</td>\n",
              "      <td>0.56</td>\n",
              "      <td>0.44</td>\n",
              "    </tr>\n",
              "    <tr>\n",
              "      <th>40</th>\n",
              "      <td>Minnesota</td>\n",
              "      <td>602</td>\n",
              "      <td>466</td>\n",
              "      <td>1068</td>\n",
              "      <td>0.56</td>\n",
              "      <td>0.44</td>\n",
              "    </tr>\n",
              "    <tr>\n",
              "      <th>41</th>\n",
              "      <td>Alabama</td>\n",
              "      <td>328</td>\n",
              "      <td>255</td>\n",
              "      <td>583</td>\n",
              "      <td>0.56</td>\n",
              "      <td>0.44</td>\n",
              "    </tr>\n",
              "    <tr>\n",
              "      <th>42</th>\n",
              "      <td>Wyoming</td>\n",
              "      <td>105</td>\n",
              "      <td>82</td>\n",
              "      <td>187</td>\n",
              "      <td>0.56</td>\n",
              "      <td>0.44</td>\n",
              "    </tr>\n",
              "    <tr>\n",
              "      <th>43</th>\n",
              "      <td>Iowa</td>\n",
              "      <td>445</td>\n",
              "      <td>357</td>\n",
              "      <td>802</td>\n",
              "      <td>0.55</td>\n",
              "      <td>0.45</td>\n",
              "    </tr>\n",
              "    <tr>\n",
              "      <th>44</th>\n",
              "      <td>New Jersey</td>\n",
              "      <td>1293</td>\n",
              "      <td>1039</td>\n",
              "      <td>2332</td>\n",
              "      <td>0.55</td>\n",
              "      <td>0.45</td>\n",
              "    </tr>\n",
              "    <tr>\n",
              "      <th>45</th>\n",
              "      <td>Massachusetts</td>\n",
              "      <td>1088</td>\n",
              "      <td>892</td>\n",
              "      <td>1980</td>\n",
              "      <td>0.55</td>\n",
              "      <td>0.45</td>\n",
              "    </tr>\n",
              "    <tr>\n",
              "      <th>46</th>\n",
              "      <td>Vermont</td>\n",
              "      <td>119</td>\n",
              "      <td>108</td>\n",
              "      <td>227</td>\n",
              "      <td>0.52</td>\n",
              "      <td>0.48</td>\n",
              "    </tr>\n",
              "    <tr>\n",
              "      <th>47</th>\n",
              "      <td>Maine</td>\n",
              "      <td>382</td>\n",
              "      <td>360</td>\n",
              "      <td>742</td>\n",
              "      <td>0.51</td>\n",
              "      <td>0.49</td>\n",
              "    </tr>\n",
              "    <tr>\n",
              "      <th>48</th>\n",
              "      <td>West Virginia</td>\n",
              "      <td>257</td>\n",
              "      <td>247</td>\n",
              "      <td>504</td>\n",
              "      <td>0.51</td>\n",
              "      <td>0.49</td>\n",
              "    </tr>\n",
              "    <tr>\n",
              "      <th>49</th>\n",
              "      <td>North Dakota</td>\n",
              "      <td>59</td>\n",
              "      <td>58</td>\n",
              "      <td>117</td>\n",
              "      <td>0.50</td>\n",
              "      <td>0.50</td>\n",
              "    </tr>\n",
              "  </tbody>\n",
              "</table>\n",
              "</div>\n",
              "      <button class=\"colab-df-convert\" onclick=\"convertToInteractive('df-49156622-eb9f-464d-b17b-66f3b33026b6')\"\n",
              "              title=\"Convert this dataframe to an interactive table.\"\n",
              "              style=\"display:none;\">\n",
              "        \n",
              "  <svg xmlns=\"http://www.w3.org/2000/svg\" height=\"24px\"viewBox=\"0 0 24 24\"\n",
              "       width=\"24px\">\n",
              "    <path d=\"M0 0h24v24H0V0z\" fill=\"none\"/>\n",
              "    <path d=\"M18.56 5.44l.94 2.06.94-2.06 2.06-.94-2.06-.94-.94-2.06-.94 2.06-2.06.94zm-11 1L8.5 8.5l.94-2.06 2.06-.94-2.06-.94L8.5 2.5l-.94 2.06-2.06.94zm10 10l.94 2.06.94-2.06 2.06-.94-2.06-.94-.94-2.06-.94 2.06-2.06.94z\"/><path d=\"M17.41 7.96l-1.37-1.37c-.4-.4-.92-.59-1.43-.59-.52 0-1.04.2-1.43.59L10.3 9.45l-7.72 7.72c-.78.78-.78 2.05 0 2.83L4 21.41c.39.39.9.59 1.41.59.51 0 1.02-.2 1.41-.59l7.78-7.78 2.81-2.81c.8-.78.8-2.07 0-2.86zM5.41 20L4 18.59l7.72-7.72 1.47 1.35L5.41 20z\"/>\n",
              "  </svg>\n",
              "      </button>\n",
              "      \n",
              "  <style>\n",
              "    .colab-df-container {\n",
              "      display:flex;\n",
              "      flex-wrap:wrap;\n",
              "      gap: 12px;\n",
              "    }\n",
              "\n",
              "    .colab-df-convert {\n",
              "      background-color: #E8F0FE;\n",
              "      border: none;\n",
              "      border-radius: 50%;\n",
              "      cursor: pointer;\n",
              "      display: none;\n",
              "      fill: #1967D2;\n",
              "      height: 32px;\n",
              "      padding: 0 0 0 0;\n",
              "      width: 32px;\n",
              "    }\n",
              "\n",
              "    .colab-df-convert:hover {\n",
              "      background-color: #E2EBFA;\n",
              "      box-shadow: 0px 1px 2px rgba(60, 64, 67, 0.3), 0px 1px 3px 1px rgba(60, 64, 67, 0.15);\n",
              "      fill: #174EA6;\n",
              "    }\n",
              "\n",
              "    [theme=dark] .colab-df-convert {\n",
              "      background-color: #3B4455;\n",
              "      fill: #D2E3FC;\n",
              "    }\n",
              "\n",
              "    [theme=dark] .colab-df-convert:hover {\n",
              "      background-color: #434B5C;\n",
              "      box-shadow: 0px 1px 3px 1px rgba(0, 0, 0, 0.15);\n",
              "      filter: drop-shadow(0px 1px 2px rgba(0, 0, 0, 0.3));\n",
              "      fill: #FFFFFF;\n",
              "    }\n",
              "  </style>\n",
              "\n",
              "      <script>\n",
              "        const buttonEl =\n",
              "          document.querySelector('#df-49156622-eb9f-464d-b17b-66f3b33026b6 button.colab-df-convert');\n",
              "        buttonEl.style.display =\n",
              "          google.colab.kernel.accessAllowed ? 'block' : 'none';\n",
              "\n",
              "        async function convertToInteractive(key) {\n",
              "          const element = document.querySelector('#df-49156622-eb9f-464d-b17b-66f3b33026b6');\n",
              "          const dataTable =\n",
              "            await google.colab.kernel.invokeFunction('convertToInteractive',\n",
              "                                                     [key], {});\n",
              "          if (!dataTable) return;\n",
              "\n",
              "          const docLinkHtml = 'Like what you see? Visit the ' +\n",
              "            '<a target=\"_blank\" href=https://colab.research.google.com/notebooks/data_table.ipynb>data table notebook</a>'\n",
              "            + ' to learn more about interactive tables.';\n",
              "          element.innerHTML = '';\n",
              "          dataTable['output_type'] = 'display_data';\n",
              "          await google.colab.output.renderOutput(dataTable, element);\n",
              "          const docLink = document.createElement('div');\n",
              "          docLink.innerHTML = docLinkHtml;\n",
              "          element.appendChild(docLink);\n",
              "        }\n",
              "      </script>\n",
              "    </div>\n",
              "  </div>\n",
              "  "
            ]
          },
          "metadata": {},
          "execution_count": 23
        }
      ]
    },
    {
      "cell_type": "markdown",
      "metadata": {
        "id": "qlskICukX3Ay"
      },
      "source": [
        "## Exploratory data analysis\n",
        "\n",
        "\n",
        "Now, I will explore the data to gain insights about the data."
      ]
    },
    {
      "cell_type": "markdown",
      "metadata": {
        "id": "c8VZU98UX3Az"
      },
      "source": [
        "### View dimensions of dataset"
      ]
    },
    {
      "cell_type": "code",
      "execution_count": 4,
      "metadata": {
        "colab": {
          "base_uri": "https://localhost:8080/"
        },
        "id": "bQWsxR_AX3A0",
        "outputId": "d9cfd76e-0205-45e4-e9fa-f2d816f498c5"
      },
      "outputs": [
        {
          "output_type": "execute_result",
          "data": {
            "text/plain": [
              "(50, 6)"
            ]
          },
          "metadata": {},
          "execution_count": 4
        }
      ],
      "source": [
        "data.shape"
      ]
    },
    {
      "cell_type": "markdown",
      "metadata": {
        "id": "EJpxtRwsX3A4"
      },
      "source": [
        "We can see that there are 50 instances and 6 variables in the data set."
      ]
    },
    {
      "cell_type": "markdown",
      "metadata": {
        "id": "yCaOT3U8X3A5"
      },
      "source": [
        "### Preview the dataset"
      ]
    },
    {
      "cell_type": "code",
      "execution_count": 5,
      "metadata": {
        "colab": {
          "base_uri": "https://localhost:8080/",
          "height": 206
        },
        "id": "pDh-zVPIX3A6",
        "outputId": "d4a416aa-0f06-4fdb-d5b9-f3d5ab1caa0d"
      },
      "outputs": [
        {
          "output_type": "execute_result",
          "data": {
            "text/plain": [
              "            State  Yes   No  Total  PercentYes  PercentNo\n",
              "0        Delaware  228  111    339        0.67       0.33\n",
              "1      New Mexico  108   63    171        0.63       0.37\n",
              "2  North Carolina  724  429   1153        0.63       0.37\n",
              "3          Nevada  213  127    340        0.63       0.37\n",
              "4            Ohio  988  607   1595        0.62       0.38"
            ],
            "text/html": [
              "\n",
              "  <div id=\"df-1fb4ca36-1be8-4503-9085-b1f898bff57f\">\n",
              "    <div class=\"colab-df-container\">\n",
              "      <div>\n",
              "<style scoped>\n",
              "    .dataframe tbody tr th:only-of-type {\n",
              "        vertical-align: middle;\n",
              "    }\n",
              "\n",
              "    .dataframe tbody tr th {\n",
              "        vertical-align: top;\n",
              "    }\n",
              "\n",
              "    .dataframe thead th {\n",
              "        text-align: right;\n",
              "    }\n",
              "</style>\n",
              "<table border=\"1\" class=\"dataframe\">\n",
              "  <thead>\n",
              "    <tr style=\"text-align: right;\">\n",
              "      <th></th>\n",
              "      <th>State</th>\n",
              "      <th>Yes</th>\n",
              "      <th>No</th>\n",
              "      <th>Total</th>\n",
              "      <th>PercentYes</th>\n",
              "      <th>PercentNo</th>\n",
              "    </tr>\n",
              "  </thead>\n",
              "  <tbody>\n",
              "    <tr>\n",
              "      <th>0</th>\n",
              "      <td>Delaware</td>\n",
              "      <td>228</td>\n",
              "      <td>111</td>\n",
              "      <td>339</td>\n",
              "      <td>0.67</td>\n",
              "      <td>0.33</td>\n",
              "    </tr>\n",
              "    <tr>\n",
              "      <th>1</th>\n",
              "      <td>New Mexico</td>\n",
              "      <td>108</td>\n",
              "      <td>63</td>\n",
              "      <td>171</td>\n",
              "      <td>0.63</td>\n",
              "      <td>0.37</td>\n",
              "    </tr>\n",
              "    <tr>\n",
              "      <th>2</th>\n",
              "      <td>North Carolina</td>\n",
              "      <td>724</td>\n",
              "      <td>429</td>\n",
              "      <td>1153</td>\n",
              "      <td>0.63</td>\n",
              "      <td>0.37</td>\n",
              "    </tr>\n",
              "    <tr>\n",
              "      <th>3</th>\n",
              "      <td>Nevada</td>\n",
              "      <td>213</td>\n",
              "      <td>127</td>\n",
              "      <td>340</td>\n",
              "      <td>0.63</td>\n",
              "      <td>0.37</td>\n",
              "    </tr>\n",
              "    <tr>\n",
              "      <th>4</th>\n",
              "      <td>Ohio</td>\n",
              "      <td>988</td>\n",
              "      <td>607</td>\n",
              "      <td>1595</td>\n",
              "      <td>0.62</td>\n",
              "      <td>0.38</td>\n",
              "    </tr>\n",
              "  </tbody>\n",
              "</table>\n",
              "</div>\n",
              "      <button class=\"colab-df-convert\" onclick=\"convertToInteractive('df-1fb4ca36-1be8-4503-9085-b1f898bff57f')\"\n",
              "              title=\"Convert this dataframe to an interactive table.\"\n",
              "              style=\"display:none;\">\n",
              "        \n",
              "  <svg xmlns=\"http://www.w3.org/2000/svg\" height=\"24px\"viewBox=\"0 0 24 24\"\n",
              "       width=\"24px\">\n",
              "    <path d=\"M0 0h24v24H0V0z\" fill=\"none\"/>\n",
              "    <path d=\"M18.56 5.44l.94 2.06.94-2.06 2.06-.94-2.06-.94-.94-2.06-.94 2.06-2.06.94zm-11 1L8.5 8.5l.94-2.06 2.06-.94-2.06-.94L8.5 2.5l-.94 2.06-2.06.94zm10 10l.94 2.06.94-2.06 2.06-.94-2.06-.94-.94-2.06-.94 2.06-2.06.94z\"/><path d=\"M17.41 7.96l-1.37-1.37c-.4-.4-.92-.59-1.43-.59-.52 0-1.04.2-1.43.59L10.3 9.45l-7.72 7.72c-.78.78-.78 2.05 0 2.83L4 21.41c.39.39.9.59 1.41.59.51 0 1.02-.2 1.41-.59l7.78-7.78 2.81-2.81c.8-.78.8-2.07 0-2.86zM5.41 20L4 18.59l7.72-7.72 1.47 1.35L5.41 20z\"/>\n",
              "  </svg>\n",
              "      </button>\n",
              "      \n",
              "  <style>\n",
              "    .colab-df-container {\n",
              "      display:flex;\n",
              "      flex-wrap:wrap;\n",
              "      gap: 12px;\n",
              "    }\n",
              "\n",
              "    .colab-df-convert {\n",
              "      background-color: #E8F0FE;\n",
              "      border: none;\n",
              "      border-radius: 50%;\n",
              "      cursor: pointer;\n",
              "      display: none;\n",
              "      fill: #1967D2;\n",
              "      height: 32px;\n",
              "      padding: 0 0 0 0;\n",
              "      width: 32px;\n",
              "    }\n",
              "\n",
              "    .colab-df-convert:hover {\n",
              "      background-color: #E2EBFA;\n",
              "      box-shadow: 0px 1px 2px rgba(60, 64, 67, 0.3), 0px 1px 3px 1px rgba(60, 64, 67, 0.15);\n",
              "      fill: #174EA6;\n",
              "    }\n",
              "\n",
              "    [theme=dark] .colab-df-convert {\n",
              "      background-color: #3B4455;\n",
              "      fill: #D2E3FC;\n",
              "    }\n",
              "\n",
              "    [theme=dark] .colab-df-convert:hover {\n",
              "      background-color: #434B5C;\n",
              "      box-shadow: 0px 1px 3px 1px rgba(0, 0, 0, 0.15);\n",
              "      filter: drop-shadow(0px 1px 2px rgba(0, 0, 0, 0.3));\n",
              "      fill: #FFFFFF;\n",
              "    }\n",
              "  </style>\n",
              "\n",
              "      <script>\n",
              "        const buttonEl =\n",
              "          document.querySelector('#df-1fb4ca36-1be8-4503-9085-b1f898bff57f button.colab-df-convert');\n",
              "        buttonEl.style.display =\n",
              "          google.colab.kernel.accessAllowed ? 'block' : 'none';\n",
              "\n",
              "        async function convertToInteractive(key) {\n",
              "          const element = document.querySelector('#df-1fb4ca36-1be8-4503-9085-b1f898bff57f');\n",
              "          const dataTable =\n",
              "            await google.colab.kernel.invokeFunction('convertToInteractive',\n",
              "                                                     [key], {});\n",
              "          if (!dataTable) return;\n",
              "\n",
              "          const docLinkHtml = 'Like what you see? Visit the ' +\n",
              "            '<a target=\"_blank\" href=https://colab.research.google.com/notebooks/data_table.ipynb>data table notebook</a>'\n",
              "            + ' to learn more about interactive tables.';\n",
              "          element.innerHTML = '';\n",
              "          dataTable['output_type'] = 'display_data';\n",
              "          await google.colab.output.renderOutput(dataTable, element);\n",
              "          const docLink = document.createElement('div');\n",
              "          docLink.innerHTML = docLinkHtml;\n",
              "          element.appendChild(docLink);\n",
              "        }\n",
              "      </script>\n",
              "    </div>\n",
              "  </div>\n",
              "  "
            ]
          },
          "metadata": {},
          "execution_count": 5
        }
      ],
      "source": [
        "data.head()"
      ]
    },
    {
      "cell_type": "markdown",
      "metadata": {
        "id": "7r5uvKu4X3A8"
      },
      "source": [
        "### View summary of dataset"
      ]
    },
    {
      "cell_type": "code",
      "execution_count": 6,
      "metadata": {
        "colab": {
          "base_uri": "https://localhost:8080/"
        },
        "id": "9TKul2oAX3A9",
        "outputId": "1114aa31-b8b0-46d4-c1bd-4eccaee992ac"
      },
      "outputs": [
        {
          "output_type": "stream",
          "name": "stdout",
          "text": [
            "<class 'pandas.core.frame.DataFrame'>\n",
            "RangeIndex: 50 entries, 0 to 49\n",
            "Data columns (total 6 columns):\n",
            " #   Column      Non-Null Count  Dtype  \n",
            "---  ------      --------------  -----  \n",
            " 0   State       50 non-null     object \n",
            " 1   Yes         50 non-null     int64  \n",
            " 2   No          50 non-null     int64  \n",
            " 3   Total       50 non-null     int64  \n",
            " 4   PercentYes  50 non-null     float64\n",
            " 5   PercentNo   50 non-null     float64\n",
            "dtypes: float64(2), int64(3), object(1)\n",
            "memory usage: 2.5+ KB\n"
          ]
        }
      ],
      "source": [
        "data.info()"
      ]
    },
    {
      "cell_type": "markdown",
      "metadata": {
        "id": "2Me-WiuZX3A_"
      },
      "source": [
        "### Check for missing values"
      ]
    },
    {
      "cell_type": "code",
      "execution_count": 7,
      "metadata": {
        "colab": {
          "base_uri": "https://localhost:8080/"
        },
        "id": "ZfZmBZk2X3BA",
        "outputId": "5c7e34c1-aafe-4186-f53b-2404f32296ce"
      },
      "outputs": [
        {
          "output_type": "execute_result",
          "data": {
            "text/plain": [
              "State         0\n",
              "Yes           0\n",
              "No            0\n",
              "Total         0\n",
              "PercentYes    0\n",
              "PercentNo     0\n",
              "dtype: int64"
            ]
          },
          "metadata": {},
          "execution_count": 7
        }
      ],
      "source": [
        "data.isnull().sum()"
      ]
    },
    {
      "cell_type": "markdown",
      "metadata": {
        "id": "BGLscD_sX3BC"
      },
      "source": [
        "The above command shows that there are no missing values in the dataset."
      ]
    },
    {
      "cell_type": "markdown",
      "metadata": {
        "id": "blu2GcuFX3BD"
      },
      "source": [
        "\n",
        "\n",
        "## Exploratory data analysis Descriptive statistics with `describe()` function\n",
        "\n",
        "\n",
        "\n",
        "Descriptive or summary statistics in python – pandas, can be obtained by using the `describe()` function. The `describe()` function gives us the `count`, `mean`, `standard deviation(std)`, `minimum`, `Q1(25%)`, `median(50%)`, `Q3(75%)`, `IQR(Q3 - Q1)` and `maximum` values.\n",
        "\n",
        "\n",
        "I will demonstrate the usage of `describe()` function as follows."
      ]
    },
    {
      "cell_type": "markdown",
      "metadata": {
        "id": "1BHNQr96X3BE"
      },
      "source": [
        "### Summary statistics of numerical columns"
      ]
    },
    {
      "cell_type": "code",
      "execution_count": 9,
      "metadata": {
        "colab": {
          "base_uri": "https://localhost:8080/",
          "height": 300
        },
        "id": "cnsglHrDX3BF",
        "outputId": "0f5eb7bf-5a4f-4118-d29f-a4bf3ae4ad74"
      },
      "outputs": [
        {
          "output_type": "execute_result",
          "data": {
            "text/plain": [
              "              Yes           No        Total  PercentYes  PercentNo\n",
              "count    50.00000    50.000000    50.000000   50.000000  50.000000\n",
              "mean    590.68000   423.280000  1013.960000    0.584600   0.415400\n",
              "std     586.52743   434.370858  1019.245318    0.033025   0.033025\n",
              "min      44.00000    29.000000    73.000000    0.500000   0.330000\n",
              "25%     229.50000   145.750000   350.750000    0.570000   0.392500\n",
              "50%     389.50000   268.500000   670.500000    0.590000   0.410000\n",
              "75%     713.25000   506.750000  1175.750000    0.607500   0.430000\n",
              "max    3163.00000  2433.000000  5596.000000    0.670000   0.500000"
            ],
            "text/html": [
              "\n",
              "  <div id=\"df-5cfafb63-6ea3-4880-9039-d5a77f5b25cc\">\n",
              "    <div class=\"colab-df-container\">\n",
              "      <div>\n",
              "<style scoped>\n",
              "    .dataframe tbody tr th:only-of-type {\n",
              "        vertical-align: middle;\n",
              "    }\n",
              "\n",
              "    .dataframe tbody tr th {\n",
              "        vertical-align: top;\n",
              "    }\n",
              "\n",
              "    .dataframe thead th {\n",
              "        text-align: right;\n",
              "    }\n",
              "</style>\n",
              "<table border=\"1\" class=\"dataframe\">\n",
              "  <thead>\n",
              "    <tr style=\"text-align: right;\">\n",
              "      <th></th>\n",
              "      <th>Yes</th>\n",
              "      <th>No</th>\n",
              "      <th>Total</th>\n",
              "      <th>PercentYes</th>\n",
              "      <th>PercentNo</th>\n",
              "    </tr>\n",
              "  </thead>\n",
              "  <tbody>\n",
              "    <tr>\n",
              "      <th>count</th>\n",
              "      <td>50.00000</td>\n",
              "      <td>50.000000</td>\n",
              "      <td>50.000000</td>\n",
              "      <td>50.000000</td>\n",
              "      <td>50.000000</td>\n",
              "    </tr>\n",
              "    <tr>\n",
              "      <th>mean</th>\n",
              "      <td>590.68000</td>\n",
              "      <td>423.280000</td>\n",
              "      <td>1013.960000</td>\n",
              "      <td>0.584600</td>\n",
              "      <td>0.415400</td>\n",
              "    </tr>\n",
              "    <tr>\n",
              "      <th>std</th>\n",
              "      <td>586.52743</td>\n",
              "      <td>434.370858</td>\n",
              "      <td>1019.245318</td>\n",
              "      <td>0.033025</td>\n",
              "      <td>0.033025</td>\n",
              "    </tr>\n",
              "    <tr>\n",
              "      <th>min</th>\n",
              "      <td>44.00000</td>\n",
              "      <td>29.000000</td>\n",
              "      <td>73.000000</td>\n",
              "      <td>0.500000</td>\n",
              "      <td>0.330000</td>\n",
              "    </tr>\n",
              "    <tr>\n",
              "      <th>25%</th>\n",
              "      <td>229.50000</td>\n",
              "      <td>145.750000</td>\n",
              "      <td>350.750000</td>\n",
              "      <td>0.570000</td>\n",
              "      <td>0.392500</td>\n",
              "    </tr>\n",
              "    <tr>\n",
              "      <th>50%</th>\n",
              "      <td>389.50000</td>\n",
              "      <td>268.500000</td>\n",
              "      <td>670.500000</td>\n",
              "      <td>0.590000</td>\n",
              "      <td>0.410000</td>\n",
              "    </tr>\n",
              "    <tr>\n",
              "      <th>75%</th>\n",
              "      <td>713.25000</td>\n",
              "      <td>506.750000</td>\n",
              "      <td>1175.750000</td>\n",
              "      <td>0.607500</td>\n",
              "      <td>0.430000</td>\n",
              "    </tr>\n",
              "    <tr>\n",
              "      <th>max</th>\n",
              "      <td>3163.00000</td>\n",
              "      <td>2433.000000</td>\n",
              "      <td>5596.000000</td>\n",
              "      <td>0.670000</td>\n",
              "      <td>0.500000</td>\n",
              "    </tr>\n",
              "  </tbody>\n",
              "</table>\n",
              "</div>\n",
              "      <button class=\"colab-df-convert\" onclick=\"convertToInteractive('df-5cfafb63-6ea3-4880-9039-d5a77f5b25cc')\"\n",
              "              title=\"Convert this dataframe to an interactive table.\"\n",
              "              style=\"display:none;\">\n",
              "        \n",
              "  <svg xmlns=\"http://www.w3.org/2000/svg\" height=\"24px\"viewBox=\"0 0 24 24\"\n",
              "       width=\"24px\">\n",
              "    <path d=\"M0 0h24v24H0V0z\" fill=\"none\"/>\n",
              "    <path d=\"M18.56 5.44l.94 2.06.94-2.06 2.06-.94-2.06-.94-.94-2.06-.94 2.06-2.06.94zm-11 1L8.5 8.5l.94-2.06 2.06-.94-2.06-.94L8.5 2.5l-.94 2.06-2.06.94zm10 10l.94 2.06.94-2.06 2.06-.94-2.06-.94-.94-2.06-.94 2.06-2.06.94z\"/><path d=\"M17.41 7.96l-1.37-1.37c-.4-.4-.92-.59-1.43-.59-.52 0-1.04.2-1.43.59L10.3 9.45l-7.72 7.72c-.78.78-.78 2.05 0 2.83L4 21.41c.39.39.9.59 1.41.59.51 0 1.02-.2 1.41-.59l7.78-7.78 2.81-2.81c.8-.78.8-2.07 0-2.86zM5.41 20L4 18.59l7.72-7.72 1.47 1.35L5.41 20z\"/>\n",
              "  </svg>\n",
              "      </button>\n",
              "      \n",
              "  <style>\n",
              "    .colab-df-container {\n",
              "      display:flex;\n",
              "      flex-wrap:wrap;\n",
              "      gap: 12px;\n",
              "    }\n",
              "\n",
              "    .colab-df-convert {\n",
              "      background-color: #E8F0FE;\n",
              "      border: none;\n",
              "      border-radius: 50%;\n",
              "      cursor: pointer;\n",
              "      display: none;\n",
              "      fill: #1967D2;\n",
              "      height: 32px;\n",
              "      padding: 0 0 0 0;\n",
              "      width: 32px;\n",
              "    }\n",
              "\n",
              "    .colab-df-convert:hover {\n",
              "      background-color: #E2EBFA;\n",
              "      box-shadow: 0px 1px 2px rgba(60, 64, 67, 0.3), 0px 1px 3px 1px rgba(60, 64, 67, 0.15);\n",
              "      fill: #174EA6;\n",
              "    }\n",
              "\n",
              "    [theme=dark] .colab-df-convert {\n",
              "      background-color: #3B4455;\n",
              "      fill: #D2E3FC;\n",
              "    }\n",
              "\n",
              "    [theme=dark] .colab-df-convert:hover {\n",
              "      background-color: #434B5C;\n",
              "      box-shadow: 0px 1px 3px 1px rgba(0, 0, 0, 0.15);\n",
              "      filter: drop-shadow(0px 1px 2px rgba(0, 0, 0, 0.3));\n",
              "      fill: #FFFFFF;\n",
              "    }\n",
              "  </style>\n",
              "\n",
              "      <script>\n",
              "        const buttonEl =\n",
              "          document.querySelector('#df-5cfafb63-6ea3-4880-9039-d5a77f5b25cc button.colab-df-convert');\n",
              "        buttonEl.style.display =\n",
              "          google.colab.kernel.accessAllowed ? 'block' : 'none';\n",
              "\n",
              "        async function convertToInteractive(key) {\n",
              "          const element = document.querySelector('#df-5cfafb63-6ea3-4880-9039-d5a77f5b25cc');\n",
              "          const dataTable =\n",
              "            await google.colab.kernel.invokeFunction('convertToInteractive',\n",
              "                                                     [key], {});\n",
              "          if (!dataTable) return;\n",
              "\n",
              "          const docLinkHtml = 'Like what you see? Visit the ' +\n",
              "            '<a target=\"_blank\" href=https://colab.research.google.com/notebooks/data_table.ipynb>data table notebook</a>'\n",
              "            + ' to learn more about interactive tables.';\n",
              "          element.innerHTML = '';\n",
              "          dataTable['output_type'] = 'display_data';\n",
              "          await google.colab.output.renderOutput(dataTable, element);\n",
              "          const docLink = document.createElement('div');\n",
              "          docLink.innerHTML = docLinkHtml;\n",
              "          element.appendChild(docLink);\n",
              "        }\n",
              "      </script>\n",
              "    </div>\n",
              "  </div>\n",
              "  "
            ]
          },
          "metadata": {},
          "execution_count": 9
        }
      ],
      "source": [
        "data.describe()"
      ]
    },
    {
      "cell_type": "markdown",
      "metadata": {
        "id": "x1acXw9MX3BG"
      },
      "source": [
        "We can see that the `describe()` function excludes the character columns and gives summary statistics of numeric columns only."
      ]
    },
    {
      "cell_type": "markdown",
      "metadata": {
        "id": "HkLw3a0qX3BH"
      },
      "source": [
        "### Summary statistics of character columns\n",
        "\n",
        "\n",
        "- The `describe()` function with an argument named `include` along with `value` object(include='object') gives the summary statistics of the character columns."
      ]
    },
    {
      "cell_type": "code",
      "execution_count": 11,
      "metadata": {
        "colab": {
          "base_uri": "https://localhost:8080/",
          "height": 175
        },
        "id": "RHcqc3JmX3BI",
        "outputId": "c8183126-ca58-4c8b-b7b3-22aa0f16e323"
      },
      "outputs": [
        {
          "output_type": "execute_result",
          "data": {
            "text/plain": [
              "           State\n",
              "count         50\n",
              "unique        50\n",
              "top     Delaware\n",
              "freq           1"
            ],
            "text/html": [
              "\n",
              "  <div id=\"df-989061ab-644c-4915-ae36-e5ef00051804\">\n",
              "    <div class=\"colab-df-container\">\n",
              "      <div>\n",
              "<style scoped>\n",
              "    .dataframe tbody tr th:only-of-type {\n",
              "        vertical-align: middle;\n",
              "    }\n",
              "\n",
              "    .dataframe tbody tr th {\n",
              "        vertical-align: top;\n",
              "    }\n",
              "\n",
              "    .dataframe thead th {\n",
              "        text-align: right;\n",
              "    }\n",
              "</style>\n",
              "<table border=\"1\" class=\"dataframe\">\n",
              "  <thead>\n",
              "    <tr style=\"text-align: right;\">\n",
              "      <th></th>\n",
              "      <th>State</th>\n",
              "    </tr>\n",
              "  </thead>\n",
              "  <tbody>\n",
              "    <tr>\n",
              "      <th>count</th>\n",
              "      <td>50</td>\n",
              "    </tr>\n",
              "    <tr>\n",
              "      <th>unique</th>\n",
              "      <td>50</td>\n",
              "    </tr>\n",
              "    <tr>\n",
              "      <th>top</th>\n",
              "      <td>Delaware</td>\n",
              "    </tr>\n",
              "    <tr>\n",
              "      <th>freq</th>\n",
              "      <td>1</td>\n",
              "    </tr>\n",
              "  </tbody>\n",
              "</table>\n",
              "</div>\n",
              "      <button class=\"colab-df-convert\" onclick=\"convertToInteractive('df-989061ab-644c-4915-ae36-e5ef00051804')\"\n",
              "              title=\"Convert this dataframe to an interactive table.\"\n",
              "              style=\"display:none;\">\n",
              "        \n",
              "  <svg xmlns=\"http://www.w3.org/2000/svg\" height=\"24px\"viewBox=\"0 0 24 24\"\n",
              "       width=\"24px\">\n",
              "    <path d=\"M0 0h24v24H0V0z\" fill=\"none\"/>\n",
              "    <path d=\"M18.56 5.44l.94 2.06.94-2.06 2.06-.94-2.06-.94-.94-2.06-.94 2.06-2.06.94zm-11 1L8.5 8.5l.94-2.06 2.06-.94-2.06-.94L8.5 2.5l-.94 2.06-2.06.94zm10 10l.94 2.06.94-2.06 2.06-.94-2.06-.94-.94-2.06-.94 2.06-2.06.94z\"/><path d=\"M17.41 7.96l-1.37-1.37c-.4-.4-.92-.59-1.43-.59-.52 0-1.04.2-1.43.59L10.3 9.45l-7.72 7.72c-.78.78-.78 2.05 0 2.83L4 21.41c.39.39.9.59 1.41.59.51 0 1.02-.2 1.41-.59l7.78-7.78 2.81-2.81c.8-.78.8-2.07 0-2.86zM5.41 20L4 18.59l7.72-7.72 1.47 1.35L5.41 20z\"/>\n",
              "  </svg>\n",
              "      </button>\n",
              "      \n",
              "  <style>\n",
              "    .colab-df-container {\n",
              "      display:flex;\n",
              "      flex-wrap:wrap;\n",
              "      gap: 12px;\n",
              "    }\n",
              "\n",
              "    .colab-df-convert {\n",
              "      background-color: #E8F0FE;\n",
              "      border: none;\n",
              "      border-radius: 50%;\n",
              "      cursor: pointer;\n",
              "      display: none;\n",
              "      fill: #1967D2;\n",
              "      height: 32px;\n",
              "      padding: 0 0 0 0;\n",
              "      width: 32px;\n",
              "    }\n",
              "\n",
              "    .colab-df-convert:hover {\n",
              "      background-color: #E2EBFA;\n",
              "      box-shadow: 0px 1px 2px rgba(60, 64, 67, 0.3), 0px 1px 3px 1px rgba(60, 64, 67, 0.15);\n",
              "      fill: #174EA6;\n",
              "    }\n",
              "\n",
              "    [theme=dark] .colab-df-convert {\n",
              "      background-color: #3B4455;\n",
              "      fill: #D2E3FC;\n",
              "    }\n",
              "\n",
              "    [theme=dark] .colab-df-convert:hover {\n",
              "      background-color: #434B5C;\n",
              "      box-shadow: 0px 1px 3px 1px rgba(0, 0, 0, 0.15);\n",
              "      filter: drop-shadow(0px 1px 2px rgba(0, 0, 0, 0.3));\n",
              "      fill: #FFFFFF;\n",
              "    }\n",
              "  </style>\n",
              "\n",
              "      <script>\n",
              "        const buttonEl =\n",
              "          document.querySelector('#df-989061ab-644c-4915-ae36-e5ef00051804 button.colab-df-convert');\n",
              "        buttonEl.style.display =\n",
              "          google.colab.kernel.accessAllowed ? 'block' : 'none';\n",
              "\n",
              "        async function convertToInteractive(key) {\n",
              "          const element = document.querySelector('#df-989061ab-644c-4915-ae36-e5ef00051804');\n",
              "          const dataTable =\n",
              "            await google.colab.kernel.invokeFunction('convertToInteractive',\n",
              "                                                     [key], {});\n",
              "          if (!dataTable) return;\n",
              "\n",
              "          const docLinkHtml = 'Like what you see? Visit the ' +\n",
              "            '<a target=\"_blank\" href=https://colab.research.google.com/notebooks/data_table.ipynb>data table notebook</a>'\n",
              "            + ' to learn more about interactive tables.';\n",
              "          element.innerHTML = '';\n",
              "          dataTable['output_type'] = 'display_data';\n",
              "          await google.colab.output.renderOutput(dataTable, element);\n",
              "          const docLink = document.createElement('div');\n",
              "          docLink.innerHTML = docLinkHtml;\n",
              "          element.appendChild(docLink);\n",
              "        }\n",
              "      </script>\n",
              "    </div>\n",
              "  </div>\n",
              "  "
            ]
          },
          "metadata": {},
          "execution_count": 11
        }
      ],
      "source": [
        "data.describe(include=['object'])"
      ]
    },
    {
      "cell_type": "markdown",
      "metadata": {
        "id": "SGV0f5eZX3BK"
      },
      "source": [
        "### Summary statistics of all the columns\n",
        "\n",
        "\n",
        "- The `describe()` function with include='all' gives the summary statistics of all the columns.\n",
        "\n",
        "\n",
        "- We need to add a variable named include='all' to get the summary statistics or descriptive statistics of both numeric and character columns."
      ]
    },
    {
      "cell_type": "code",
      "execution_count": 12,
      "metadata": {
        "colab": {
          "base_uri": "https://localhost:8080/",
          "height": 394
        },
        "id": "TL32pIlVX3BL",
        "outputId": "64c840b9-771d-41fc-d691-60c61174b106"
      },
      "outputs": [
        {
          "output_type": "execute_result",
          "data": {
            "text/plain": [
              "           State         Yes           No        Total  PercentYes  PercentNo\n",
              "count         50    50.00000    50.000000    50.000000   50.000000  50.000000\n",
              "unique        50         NaN          NaN          NaN         NaN        NaN\n",
              "top     Delaware         NaN          NaN          NaN         NaN        NaN\n",
              "freq           1         NaN          NaN          NaN         NaN        NaN\n",
              "mean         NaN   590.68000   423.280000  1013.960000    0.584600   0.415400\n",
              "std          NaN   586.52743   434.370858  1019.245318    0.033025   0.033025\n",
              "min          NaN    44.00000    29.000000    73.000000    0.500000   0.330000\n",
              "25%          NaN   229.50000   145.750000   350.750000    0.570000   0.392500\n",
              "50%          NaN   389.50000   268.500000   670.500000    0.590000   0.410000\n",
              "75%          NaN   713.25000   506.750000  1175.750000    0.607500   0.430000\n",
              "max          NaN  3163.00000  2433.000000  5596.000000    0.670000   0.500000"
            ],
            "text/html": [
              "\n",
              "  <div id=\"df-976b25dd-6f03-4daa-8844-dc63b45b68db\">\n",
              "    <div class=\"colab-df-container\">\n",
              "      <div>\n",
              "<style scoped>\n",
              "    .dataframe tbody tr th:only-of-type {\n",
              "        vertical-align: middle;\n",
              "    }\n",
              "\n",
              "    .dataframe tbody tr th {\n",
              "        vertical-align: top;\n",
              "    }\n",
              "\n",
              "    .dataframe thead th {\n",
              "        text-align: right;\n",
              "    }\n",
              "</style>\n",
              "<table border=\"1\" class=\"dataframe\">\n",
              "  <thead>\n",
              "    <tr style=\"text-align: right;\">\n",
              "      <th></th>\n",
              "      <th>State</th>\n",
              "      <th>Yes</th>\n",
              "      <th>No</th>\n",
              "      <th>Total</th>\n",
              "      <th>PercentYes</th>\n",
              "      <th>PercentNo</th>\n",
              "    </tr>\n",
              "  </thead>\n",
              "  <tbody>\n",
              "    <tr>\n",
              "      <th>count</th>\n",
              "      <td>50</td>\n",
              "      <td>50.00000</td>\n",
              "      <td>50.000000</td>\n",
              "      <td>50.000000</td>\n",
              "      <td>50.000000</td>\n",
              "      <td>50.000000</td>\n",
              "    </tr>\n",
              "    <tr>\n",
              "      <th>unique</th>\n",
              "      <td>50</td>\n",
              "      <td>NaN</td>\n",
              "      <td>NaN</td>\n",
              "      <td>NaN</td>\n",
              "      <td>NaN</td>\n",
              "      <td>NaN</td>\n",
              "    </tr>\n",
              "    <tr>\n",
              "      <th>top</th>\n",
              "      <td>Delaware</td>\n",
              "      <td>NaN</td>\n",
              "      <td>NaN</td>\n",
              "      <td>NaN</td>\n",
              "      <td>NaN</td>\n",
              "      <td>NaN</td>\n",
              "    </tr>\n",
              "    <tr>\n",
              "      <th>freq</th>\n",
              "      <td>1</td>\n",
              "      <td>NaN</td>\n",
              "      <td>NaN</td>\n",
              "      <td>NaN</td>\n",
              "      <td>NaN</td>\n",
              "      <td>NaN</td>\n",
              "    </tr>\n",
              "    <tr>\n",
              "      <th>mean</th>\n",
              "      <td>NaN</td>\n",
              "      <td>590.68000</td>\n",
              "      <td>423.280000</td>\n",
              "      <td>1013.960000</td>\n",
              "      <td>0.584600</td>\n",
              "      <td>0.415400</td>\n",
              "    </tr>\n",
              "    <tr>\n",
              "      <th>std</th>\n",
              "      <td>NaN</td>\n",
              "      <td>586.52743</td>\n",
              "      <td>434.370858</td>\n",
              "      <td>1019.245318</td>\n",
              "      <td>0.033025</td>\n",
              "      <td>0.033025</td>\n",
              "    </tr>\n",
              "    <tr>\n",
              "      <th>min</th>\n",
              "      <td>NaN</td>\n",
              "      <td>44.00000</td>\n",
              "      <td>29.000000</td>\n",
              "      <td>73.000000</td>\n",
              "      <td>0.500000</td>\n",
              "      <td>0.330000</td>\n",
              "    </tr>\n",
              "    <tr>\n",
              "      <th>25%</th>\n",
              "      <td>NaN</td>\n",
              "      <td>229.50000</td>\n",
              "      <td>145.750000</td>\n",
              "      <td>350.750000</td>\n",
              "      <td>0.570000</td>\n",
              "      <td>0.392500</td>\n",
              "    </tr>\n",
              "    <tr>\n",
              "      <th>50%</th>\n",
              "      <td>NaN</td>\n",
              "      <td>389.50000</td>\n",
              "      <td>268.500000</td>\n",
              "      <td>670.500000</td>\n",
              "      <td>0.590000</td>\n",
              "      <td>0.410000</td>\n",
              "    </tr>\n",
              "    <tr>\n",
              "      <th>75%</th>\n",
              "      <td>NaN</td>\n",
              "      <td>713.25000</td>\n",
              "      <td>506.750000</td>\n",
              "      <td>1175.750000</td>\n",
              "      <td>0.607500</td>\n",
              "      <td>0.430000</td>\n",
              "    </tr>\n",
              "    <tr>\n",
              "      <th>max</th>\n",
              "      <td>NaN</td>\n",
              "      <td>3163.00000</td>\n",
              "      <td>2433.000000</td>\n",
              "      <td>5596.000000</td>\n",
              "      <td>0.670000</td>\n",
              "      <td>0.500000</td>\n",
              "    </tr>\n",
              "  </tbody>\n",
              "</table>\n",
              "</div>\n",
              "      <button class=\"colab-df-convert\" onclick=\"convertToInteractive('df-976b25dd-6f03-4daa-8844-dc63b45b68db')\"\n",
              "              title=\"Convert this dataframe to an interactive table.\"\n",
              "              style=\"display:none;\">\n",
              "        \n",
              "  <svg xmlns=\"http://www.w3.org/2000/svg\" height=\"24px\"viewBox=\"0 0 24 24\"\n",
              "       width=\"24px\">\n",
              "    <path d=\"M0 0h24v24H0V0z\" fill=\"none\"/>\n",
              "    <path d=\"M18.56 5.44l.94 2.06.94-2.06 2.06-.94-2.06-.94-.94-2.06-.94 2.06-2.06.94zm-11 1L8.5 8.5l.94-2.06 2.06-.94-2.06-.94L8.5 2.5l-.94 2.06-2.06.94zm10 10l.94 2.06.94-2.06 2.06-.94-2.06-.94-.94-2.06-.94 2.06-2.06.94z\"/><path d=\"M17.41 7.96l-1.37-1.37c-.4-.4-.92-.59-1.43-.59-.52 0-1.04.2-1.43.59L10.3 9.45l-7.72 7.72c-.78.78-.78 2.05 0 2.83L4 21.41c.39.39.9.59 1.41.59.51 0 1.02-.2 1.41-.59l7.78-7.78 2.81-2.81c.8-.78.8-2.07 0-2.86zM5.41 20L4 18.59l7.72-7.72 1.47 1.35L5.41 20z\"/>\n",
              "  </svg>\n",
              "      </button>\n",
              "      \n",
              "  <style>\n",
              "    .colab-df-container {\n",
              "      display:flex;\n",
              "      flex-wrap:wrap;\n",
              "      gap: 12px;\n",
              "    }\n",
              "\n",
              "    .colab-df-convert {\n",
              "      background-color: #E8F0FE;\n",
              "      border: none;\n",
              "      border-radius: 50%;\n",
              "      cursor: pointer;\n",
              "      display: none;\n",
              "      fill: #1967D2;\n",
              "      height: 32px;\n",
              "      padding: 0 0 0 0;\n",
              "      width: 32px;\n",
              "    }\n",
              "\n",
              "    .colab-df-convert:hover {\n",
              "      background-color: #E2EBFA;\n",
              "      box-shadow: 0px 1px 2px rgba(60, 64, 67, 0.3), 0px 1px 3px 1px rgba(60, 64, 67, 0.15);\n",
              "      fill: #174EA6;\n",
              "    }\n",
              "\n",
              "    [theme=dark] .colab-df-convert {\n",
              "      background-color: #3B4455;\n",
              "      fill: #D2E3FC;\n",
              "    }\n",
              "\n",
              "    [theme=dark] .colab-df-convert:hover {\n",
              "      background-color: #434B5C;\n",
              "      box-shadow: 0px 1px 3px 1px rgba(0, 0, 0, 0.15);\n",
              "      filter: drop-shadow(0px 1px 2px rgba(0, 0, 0, 0.3));\n",
              "      fill: #FFFFFF;\n",
              "    }\n",
              "  </style>\n",
              "\n",
              "      <script>\n",
              "        const buttonEl =\n",
              "          document.querySelector('#df-976b25dd-6f03-4daa-8844-dc63b45b68db button.colab-df-convert');\n",
              "        buttonEl.style.display =\n",
              "          google.colab.kernel.accessAllowed ? 'block' : 'none';\n",
              "\n",
              "        async function convertToInteractive(key) {\n",
              "          const element = document.querySelector('#df-976b25dd-6f03-4daa-8844-dc63b45b68db');\n",
              "          const dataTable =\n",
              "            await google.colab.kernel.invokeFunction('convertToInteractive',\n",
              "                                                     [key], {});\n",
              "          if (!dataTable) return;\n",
              "\n",
              "          const docLinkHtml = 'Like what you see? Visit the ' +\n",
              "            '<a target=\"_blank\" href=https://colab.research.google.com/notebooks/data_table.ipynb>data table notebook</a>'\n",
              "            + ' to learn more about interactive tables.';\n",
              "          element.innerHTML = '';\n",
              "          dataTable['output_type'] = 'display_data';\n",
              "          await google.colab.output.renderOutput(dataTable, element);\n",
              "          const docLink = document.createElement('div');\n",
              "          docLink.innerHTML = docLinkHtml;\n",
              "          element.appendChild(docLink);\n",
              "        }\n",
              "      </script>\n",
              "    </div>\n",
              "  </div>\n",
              "  "
            ]
          },
          "metadata": {},
          "execution_count": 12
        }
      ],
      "source": [
        "data.describe(include='all')"
      ]
    },
    {
      "cell_type": "markdown",
      "metadata": {
        "id": "AsczO5gRX3BO"
      },
      "source": [
        "## Exploratory data analysis Computation of measures of central tendency \n"
      ]
    },
    {
      "cell_type": "markdown",
      "metadata": {
        "id": "Sj5VdGGtX3BQ"
      },
      "source": [
        "### Mean"
      ]
    },
    {
      "cell_type": "code",
      "execution_count": 13,
      "metadata": {
        "colab": {
          "base_uri": "https://localhost:8080/"
        },
        "id": "KJ25OanbX3BR",
        "outputId": "dde161c7-ee4e-47c0-bc47-1afa31b9db2d"
      },
      "outputs": [
        {
          "output_type": "stream",
          "name": "stdout",
          "text": [
            "590.68\n"
          ]
        }
      ],
      "source": [
        "mean = data['Yes'].mean()\n",
        "\n",
        "print(mean)"
      ]
    },
    {
      "cell_type": "markdown",
      "metadata": {
        "id": "xgCN84AMX3BT"
      },
      "source": [
        "### Median"
      ]
    },
    {
      "cell_type": "code",
      "execution_count": 15,
      "metadata": {
        "colab": {
          "base_uri": "https://localhost:8080/"
        },
        "id": "igvBE1MwX3BU",
        "outputId": "c9d2c4bf-f8a9-44c1-a2e6-009884dc5eba"
      },
      "outputs": [
        {
          "output_type": "stream",
          "name": "stdout",
          "text": [
            "389.5\n"
          ]
        }
      ],
      "source": [
        "median = data['Yes'].median()\n",
        "\n",
        "print(median)"
      ]
    },
    {
      "cell_type": "markdown",
      "metadata": {
        "id": "opxEORyUX3BW"
      },
      "source": [
        "### Mode"
      ]
    },
    {
      "cell_type": "code",
      "execution_count": 16,
      "metadata": {
        "colab": {
          "base_uri": "https://localhost:8080/"
        },
        "id": "ILYxkZDVX3BX",
        "outputId": "0a82a6d6-7652-40b6-f38e-64d349306cdb"
      },
      "outputs": [
        {
          "output_type": "stream",
          "name": "stdout",
          "text": [
            "0       44\n",
            "1       57\n",
            "2       59\n",
            "3       91\n",
            "4      105\n",
            "5      108\n",
            "6      116\n",
            "7      119\n",
            "8      167\n",
            "9      170\n",
            "10     193\n",
            "11     213\n",
            "12     228\n",
            "13     234\n",
            "14     235\n",
            "15     242\n",
            "16     257\n",
            "17     273\n",
            "18     275\n",
            "19     290\n",
            "20     328\n",
            "21     332\n",
            "22     337\n",
            "23     382\n",
            "24     385\n",
            "25     394\n",
            "26     402\n",
            "27     409\n",
            "28     445\n",
            "29     453\n",
            "30     512\n",
            "31     595\n",
            "32     601\n",
            "33     602\n",
            "34     658\n",
            "35     665\n",
            "36     681\n",
            "37     724\n",
            "38     867\n",
            "39     982\n",
            "40     988\n",
            "41    1006\n",
            "42    1088\n",
            "43    1292\n",
            "44    1293\n",
            "45    1320\n",
            "46    1619\n",
            "47    1686\n",
            "48    1849\n",
            "49    3163\n",
            "dtype: int64\n"
          ]
        }
      ],
      "source": [
        "mode = data['Yes'].mode()\n",
        "\n",
        "print(mode)"
      ]
    },
    {
      "cell_type": "markdown",
      "metadata": {
        "id": "xX0TzaBgX3Ba"
      },
      "source": [
        "### Plot the distribution "
      ]
    },
    {
      "cell_type": "code",
      "execution_count": 17,
      "metadata": {
        "colab": {
          "base_uri": "https://localhost:8080/",
          "height": 296
        },
        "id": "RG7qgWzvX3Ba",
        "outputId": "2b1d5673-7786-4b54-bbdf-a13b3d0d0dce"
      },
      "outputs": [
        {
          "output_type": "execute_result",
          "data": {
            "text/plain": [
              "<matplotlib.axes._subplots.AxesSubplot at 0x7f913b4dd5e0>"
            ]
          },
          "metadata": {},
          "execution_count": 17
        },
        {
          "output_type": "display_data",
          "data": {
            "text/plain": [
              "<Figure size 432x288 with 1 Axes>"
            ],
            "image/png": "[encoded data removed]"
          },
          "metadata": {
            "needs_background": "light"
          }
        }
      ],
      "source": [
        "data = data['Yes']\n",
        "\n",
        "sns.distplot(data, bins=10, hist=True, kde=True, label = 'Yes')"
      ]
    },
    {
      "cell_type": "markdown",
      "metadata": {
        "id": "ZmviDi35X3Bd"
      },
      "source": [
        "## Computation of measures of dispersion or variability\n",
        "\n",
        "\n",
        "- In this section, I will compute the measures of dispersion or variability - minimum and maximum values, range, variance, standard-deviation, IQR. \n",
        "\n"
      ]
    },
    {
      "cell_type": "code",
      "source": [
        "data.head()"
      ],
      "metadata": {
        "colab": {
          "base_uri": "https://localhost:8080/",
          "height": 206
        },
        "id": "qYA3bie2jllm",
        "outputId": "2c1d48c0-a4f9-4d8f-ad07-bfdadb4af345"
      },
      "execution_count": 24,
      "outputs": [
        {
          "output_type": "execute_result",
          "data": {
            "text/plain": [
              "            State  Yes   No  Total  PercentYes  PercentNo\n",
              "0        Delaware  228  111    339        0.67       0.33\n",
              "1      New Mexico  108   63    171        0.63       0.37\n",
              "2  North Carolina  724  429   1153        0.63       0.37\n",
              "3          Nevada  213  127    340        0.63       0.37\n",
              "4            Ohio  988  607   1595        0.62       0.38"
            ],
            "text/html": [
              "\n",
              "  <div id=\"df-055e2701-0f6e-46e1-8c6a-97b824582479\">\n",
              "    <div class=\"colab-df-container\">\n",
              "      <div>\n",
              "<style scoped>\n",
              "    .dataframe tbody tr th:only-of-type {\n",
              "        vertical-align: middle;\n",
              "    }\n",
              "\n",
              "    .dataframe tbody tr th {\n",
              "        vertical-align: top;\n",
              "    }\n",
              "\n",
              "    .dataframe thead th {\n",
              "        text-align: right;\n",
              "    }\n",
              "</style>\n",
              "<table border=\"1\" class=\"dataframe\">\n",
              "  <thead>\n",
              "    <tr style=\"text-align: right;\">\n",
              "      <th></th>\n",
              "      <th>State</th>\n",
              "      <th>Yes</th>\n",
              "      <th>No</th>\n",
              "      <th>Total</th>\n",
              "      <th>PercentYes</th>\n",
              "      <th>PercentNo</th>\n",
              "    </tr>\n",
              "  </thead>\n",
              "  <tbody>\n",
              "    <tr>\n",
              "      <th>0</th>\n",
              "      <td>Delaware</td>\n",
              "      <td>228</td>\n",
              "      <td>111</td>\n",
              "      <td>339</td>\n",
              "      <td>0.67</td>\n",
              "      <td>0.33</td>\n",
              "    </tr>\n",
              "    <tr>\n",
              "      <th>1</th>\n",
              "      <td>New Mexico</td>\n",
              "      <td>108</td>\n",
              "      <td>63</td>\n",
              "      <td>171</td>\n",
              "      <td>0.63</td>\n",
              "      <td>0.37</td>\n",
              "    </tr>\n",
              "    <tr>\n",
              "      <th>2</th>\n",
              "      <td>North Carolina</td>\n",
              "      <td>724</td>\n",
              "      <td>429</td>\n",
              "      <td>1153</td>\n",
              "      <td>0.63</td>\n",
              "      <td>0.37</td>\n",
              "    </tr>\n",
              "    <tr>\n",
              "      <th>3</th>\n",
              "      <td>Nevada</td>\n",
              "      <td>213</td>\n",
              "      <td>127</td>\n",
              "      <td>340</td>\n",
              "      <td>0.63</td>\n",
              "      <td>0.37</td>\n",
              "    </tr>\n",
              "    <tr>\n",
              "      <th>4</th>\n",
              "      <td>Ohio</td>\n",
              "      <td>988</td>\n",
              "      <td>607</td>\n",
              "      <td>1595</td>\n",
              "      <td>0.62</td>\n",
              "      <td>0.38</td>\n",
              "    </tr>\n",
              "  </tbody>\n",
              "</table>\n",
              "</div>\n",
              "      <button class=\"colab-df-convert\" onclick=\"convertToInteractive('df-055e2701-0f6e-46e1-8c6a-97b824582479')\"\n",
              "              title=\"Convert this dataframe to an interactive table.\"\n",
              "              style=\"display:none;\">\n",
              "        \n",
              "  <svg xmlns=\"http://www.w3.org/2000/svg\" height=\"24px\"viewBox=\"0 0 24 24\"\n",
              "       width=\"24px\">\n",
              "    <path d=\"M0 0h24v24H0V0z\" fill=\"none\"/>\n",
              "    <path d=\"M18.56 5.44l.94 2.06.94-2.06 2.06-.94-2.06-.94-.94-2.06-.94 2.06-2.06.94zm-11 1L8.5 8.5l.94-2.06 2.06-.94-2.06-.94L8.5 2.5l-.94 2.06-2.06.94zm10 10l.94 2.06.94-2.06 2.06-.94-2.06-.94-.94-2.06-.94 2.06-2.06.94z\"/><path d=\"M17.41 7.96l-1.37-1.37c-.4-.4-.92-.59-1.43-.59-.52 0-1.04.2-1.43.59L10.3 9.45l-7.72 7.72c-.78.78-.78 2.05 0 2.83L4 21.41c.39.39.9.59 1.41.59.51 0 1.02-.2 1.41-.59l7.78-7.78 2.81-2.81c.8-.78.8-2.07 0-2.86zM5.41 20L4 18.59l7.72-7.72 1.47 1.35L5.41 20z\"/>\n",
              "  </svg>\n",
              "      </button>\n",
              "      \n",
              "  <style>\n",
              "    .colab-df-container {\n",
              "      display:flex;\n",
              "      flex-wrap:wrap;\n",
              "      gap: 12px;\n",
              "    }\n",
              "\n",
              "    .colab-df-convert {\n",
              "      background-color: #E8F0FE;\n",
              "      border: none;\n",
              "      border-radius: 50%;\n",
              "      cursor: pointer;\n",
              "      display: none;\n",
              "      fill: #1967D2;\n",
              "      height: 32px;\n",
              "      padding: 0 0 0 0;\n",
              "      width: 32px;\n",
              "    }\n",
              "\n",
              "    .colab-df-convert:hover {\n",
              "      background-color: #E2EBFA;\n",
              "      box-shadow: 0px 1px 2px rgba(60, 64, 67, 0.3), 0px 1px 3px 1px rgba(60, 64, 67, 0.15);\n",
              "      fill: #174EA6;\n",
              "    }\n",
              "\n",
              "    [theme=dark] .colab-df-convert {\n",
              "      background-color: #3B4455;\n",
              "      fill: #D2E3FC;\n",
              "    }\n",
              "\n",
              "    [theme=dark] .colab-df-convert:hover {\n",
              "      background-color: #434B5C;\n",
              "      box-shadow: 0px 1px 3px 1px rgba(0, 0, 0, 0.15);\n",
              "      filter: drop-shadow(0px 1px 2px rgba(0, 0, 0, 0.3));\n",
              "      fill: #FFFFFF;\n",
              "    }\n",
              "  </style>\n",
              "\n",
              "      <script>\n",
              "        const buttonEl =\n",
              "          document.querySelector('#df-055e2701-0f6e-46e1-8c6a-97b824582479 button.colab-df-convert');\n",
              "        buttonEl.style.display =\n",
              "          google.colab.kernel.accessAllowed ? 'block' : 'none';\n",
              "\n",
              "        async function convertToInteractive(key) {\n",
              "          const element = document.querySelector('#df-055e2701-0f6e-46e1-8c6a-97b824582479');\n",
              "          const dataTable =\n",
              "            await google.colab.kernel.invokeFunction('convertToInteractive',\n",
              "                                                     [key], {});\n",
              "          if (!dataTable) return;\n",
              "\n",
              "          const docLinkHtml = 'Like what you see? Visit the ' +\n",
              "            '<a target=\"_blank\" href=https://colab.research.google.com/notebooks/data_table.ipynb>data table notebook</a>'\n",
              "            + ' to learn more about interactive tables.';\n",
              "          element.innerHTML = '';\n",
              "          dataTable['output_type'] = 'display_data';\n",
              "          await google.colab.output.renderOutput(dataTable, element);\n",
              "          const docLink = document.createElement('div');\n",
              "          docLink.innerHTML = docLinkHtml;\n",
              "          element.appendChild(docLink);\n",
              "        }\n",
              "      </script>\n",
              "    </div>\n",
              "  </div>\n",
              "  "
            ]
          },
          "metadata": {},
          "execution_count": 24
        }
      ]
    },
    {
      "cell_type": "markdown",
      "metadata": {
        "id": "jXGBHEyzX3Be"
      },
      "source": [
        "### Minimum value"
      ]
    },
    {
      "cell_type": "code",
      "execution_count": 25,
      "metadata": {
        "colab": {
          "base_uri": "https://localhost:8080/"
        },
        "id": "kZpdOHNvX3Bf",
        "outputId": "ff51e30f-e4ad-4035-a9f8-4d8c373f00be"
      },
      "outputs": [
        {
          "output_type": "execute_result",
          "data": {
            "text/plain": [
              "44"
            ]
          },
          "metadata": {},
          "execution_count": 25
        }
      ],
      "source": [
        "data['Yes'].min()"
      ]
    },
    {
      "cell_type": "markdown",
      "metadata": {
        "id": "H5bbO3uRX3Bg"
      },
      "source": [
        "### Maximum value"
      ]
    },
    {
      "cell_type": "code",
      "execution_count": 26,
      "metadata": {
        "colab": {
          "base_uri": "https://localhost:8080/"
        },
        "id": "bcUXA9lZX3Bh",
        "outputId": "4bcfe6d8-e216-4559-e2f7-8209da249cc7"
      },
      "outputs": [
        {
          "output_type": "execute_result",
          "data": {
            "text/plain": [
              "3163"
            ]
          },
          "metadata": {},
          "execution_count": 26
        }
      ],
      "source": [
        "data['Yes'].max()"
      ]
    },
    {
      "cell_type": "markdown",
      "metadata": {
        "id": "jovJbwcVX3Bi"
      },
      "source": [
        "### Range"
      ]
    },
    {
      "cell_type": "code",
      "execution_count": 28,
      "metadata": {
        "colab": {
          "base_uri": "https://localhost:8080/"
        },
        "id": "2Alcq8hlX3Bj",
        "outputId": "cf548b3e-50f4-4e98-f544-f86876505377"
      },
      "outputs": [
        {
          "output_type": "execute_result",
          "data": {
            "text/plain": [
              "3119"
            ]
          },
          "metadata": {},
          "execution_count": 28
        }
      ],
      "source": [
        "data['Yes'].max() - data['Yes'].min()"
      ]
    },
    {
      "cell_type": "markdown",
      "metadata": {
        "id": "S3gtXb4GX3Bl"
      },
      "source": [
        "### Variance"
      ]
    },
    {
      "cell_type": "code",
      "execution_count": 30,
      "metadata": {
        "colab": {
          "base_uri": "https://localhost:8080/"
        },
        "id": "YVSlL99xX3Bl",
        "outputId": "343dd0ef-66ec-477b-8d21-ef629f4b0b71"
      },
      "outputs": [
        {
          "output_type": "execute_result",
          "data": {
            "text/plain": [
              "344014.42612244905"
            ]
          },
          "metadata": {},
          "execution_count": 30
        }
      ],
      "source": [
        "data['Yes'].var()"
      ]
    },
    {
      "cell_type": "markdown",
      "metadata": {
        "id": "-Ozwx3rtX3Bn"
      },
      "source": [
        "### Standard deviation"
      ]
    },
    {
      "cell_type": "code",
      "execution_count": 31,
      "metadata": {
        "colab": {
          "base_uri": "https://localhost:8080/"
        },
        "id": "H7o_Q0IYX3Bo",
        "outputId": "4ca0850e-9dc5-421e-e5d3-da10348d1299"
      },
      "outputs": [
        {
          "output_type": "execute_result",
          "data": {
            "text/plain": [
              "586.5274299829881"
            ]
          },
          "metadata": {},
          "execution_count": 31
        }
      ],
      "source": [
        "data['Yes'].std()"
      ]
    },
    {
      "cell_type": "markdown",
      "metadata": {
        "id": "ki4fWbl5X3Bp"
      },
      "source": [
        "### Median (Q2 or 50th percentile)"
      ]
    },
    {
      "cell_type": "code",
      "execution_count": 32,
      "metadata": {
        "colab": {
          "base_uri": "https://localhost:8080/"
        },
        "id": "qZZKj-7wX3Bq",
        "outputId": "5db8a65a-64a4-4ff5-d16c-5b6e9116d8e2"
      },
      "outputs": [
        {
          "output_type": "execute_result",
          "data": {
            "text/plain": [
              "389.5"
            ]
          },
          "metadata": {},
          "execution_count": 32
        }
      ],
      "source": [
        "Q2 = data['Yes'].quantile(0.5)\n",
        "\n",
        "Q2"
      ]
    },
    {
      "cell_type": "markdown",
      "metadata": {
        "id": "NI0W6-vAX3Br"
      },
      "source": [
        "### Q3 or 75th percentile"
      ]
    },
    {
      "cell_type": "code",
      "execution_count": 33,
      "metadata": {
        "colab": {
          "base_uri": "https://localhost:8080/"
        },
        "id": "8fXI5IrdX3Bs",
        "outputId": "60b5069e-ab2d-4169-b8e3-a82ca9e596d3"
      },
      "outputs": [
        {
          "output_type": "execute_result",
          "data": {
            "text/plain": [
              "713.25"
            ]
          },
          "metadata": {},
          "execution_count": 33
        }
      ],
      "source": [
        "Q3 = data['Yes'].quantile(0.75)\n",
        "\n",
        "Q3"
      ]
    },
    {
      "cell_type": "markdown",
      "metadata": {
        "id": "qpCBqQswX3Bt"
      },
      "source": [
        "### Q1 or 25th percentile"
      ]
    },
    {
      "cell_type": "code",
      "execution_count": 34,
      "metadata": {
        "colab": {
          "base_uri": "https://localhost:8080/"
        },
        "id": "coyW-gx6X3Bu",
        "outputId": "f582287e-31e6-4634-f2e1-a12022f151bf"
      },
      "outputs": [
        {
          "output_type": "execute_result",
          "data": {
            "text/plain": [
              "229.5"
            ]
          },
          "metadata": {},
          "execution_count": 34
        }
      ],
      "source": [
        "Q1 = data['Yes'].quantile(0.25)\n",
        "\n",
        "Q1"
      ]
    },
    {
      "cell_type": "markdown",
      "metadata": {
        "id": "xDuWkhViX3Bv"
      },
      "source": [
        "### Interquartile Range\n"
      ]
    },
    {
      "cell_type": "code",
      "execution_count": 35,
      "metadata": {
        "colab": {
          "base_uri": "https://localhost:8080/"
        },
        "id": "1uWSbNmzX3Bw",
        "outputId": "b8ad28c3-5aa6-48ea-f4f8-81a04e0955a6"
      },
      "outputs": [
        {
          "output_type": "execute_result",
          "data": {
            "text/plain": [
              "483.75"
            ]
          },
          "metadata": {},
          "execution_count": 35
        }
      ],
      "source": [
        "IQR = Q3  - Q1\n",
        "\n",
        "IQR"
      ]
    },
    {
      "cell_type": "markdown",
      "metadata": {
        "id": "U-5noB4jX3By"
      },
      "source": [
        "### Draw boxplot"
      ]
    },
    {
      "cell_type": "code",
      "execution_count": 36,
      "metadata": {
        "colab": {
          "base_uri": "https://localhost:8080/",
          "height": 265
        },
        "id": "FImYvz0BX3By",
        "outputId": "7ce1a2fb-e420-4f1d-9b5a-52e0094531fa"
      },
      "outputs": [
        {
          "output_type": "display_data",
          "data": {
            "text/plain": [
              "<Figure size 432x288 with 1 Axes>"
            ],
            "image/png": "[encoded data removed]"
          },
          "metadata": {
            "needs_background": "light"
          }
        }
      ],
      "source": [
        "plt.boxplot(data['Yes'])\n",
        "\n",
        "plt.show()"
      ]
    },
    {
      "cell_type": "markdown",
      "metadata": {
        "id": "CGrllpYfX3B0"
      },
      "source": [
        "## 11. Computation of measures of shape of distribution\n",
        "\n",
        "\n",
        "- In this section, I will compute the measures of shape of distribution - skewness and kurtosis. \n",
        "\n",
        "\n"
      ]
    },
    {
      "cell_type": "markdown",
      "metadata": {
        "id": "127NTESJX3B1"
      },
      "source": [
        "### Skewness\n"
      ]
    },
    {
      "cell_type": "code",
      "execution_count": 37,
      "metadata": {
        "colab": {
          "base_uri": "https://localhost:8080/"
        },
        "id": "RLh5Te79X3B2",
        "outputId": "13253149-675f-43e0-b2fe-3e3577cba5ec"
      },
      "outputs": [
        {
          "output_type": "execute_result",
          "data": {
            "text/plain": [
              "2.226738177275613"
            ]
          },
          "metadata": {},
          "execution_count": 37
        }
      ],
      "source": [
        "data['Yes'].skew()"
      ]
    },
    {
      "cell_type": "markdown",
      "metadata": {
        "id": "1bHC6L0aX3B5"
      },
      "source": [
        "### Kurtosis"
      ]
    },
    {
      "cell_type": "code",
      "execution_count": 38,
      "metadata": {
        "colab": {
          "base_uri": "https://localhost:8080/"
        },
        "id": "0wZPGzL7X3B6",
        "outputId": "0341b064-9d8f-4c77-8bb9-b92b33a85d99"
      },
      "outputs": [
        {
          "output_type": "execute_result",
          "data": {
            "text/plain": [
              "6.654281349588194"
            ]
          },
          "metadata": {},
          "execution_count": 38
        }
      ],
      "source": [
        "data['Yes'].kurt()"
      ]
    }
  ],
  "metadata": {
    "kernelspec": {
      "display_name": "Python 3",
      "language": "python",
      "name": "python3"
    },
    "language_info": {
      "codemirror_mode": {
        "name": "ipython",
        "version": 3
      },
      "file_extension": ".py",
      "mimetype": "text/x-python",
      "name": "python",
      "nbconvert_exporter": "python",
      "pygments_lexer": "ipython3",
      "version": "3.7.0"
    },
    "colab": {
      "provenance": []
    }
  },
  "nbformat": 4,
  "nbformat_minor": 0
}