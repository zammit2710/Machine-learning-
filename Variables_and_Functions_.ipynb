{
  "nbformat": 4,
  "nbformat_minor": 0,
  "metadata": {
    "colab": {
      "provenance": []
    },
    "kernelspec": {
      "name": "python3",
      "display_name": "Python 3"
    }
  },
  "cells": [
    {
      "cell_type": "markdown",
      "metadata": {
        "id": "Mr4YM6YJTkIz"
      },
      "source": [
        "# Python Basics - Variables and Functions"
      ]
    },
    {
      "cell_type": "code",
      "metadata": {
        "id": "sB5Lw22eThZs"
      },
      "source": [
        "x = 27 # type int \n",
        "y = 28.5 # type float\n",
        "prenom = 'messi' # type string\n",
        "z = True # type Bool"
      ],
      "execution_count": 1,
      "outputs": []
    },
    {
      "cell_type": "code",
      "metadata": {
        "id": "gvy__Ni0VLDg",
        "colab": {
          "base_uri": "https://localhost:8080/"
        },
        "outputId": "ac5bede1-f25e-407d-cf37-5567c52548c5"
      },
      "source": [
        "# Arithmetic operations\n",
        "print('x + y =', x + y)\n",
        "print('x - y =', x - y)\n",
        "print('x / y =', x / y)\n",
        "print('x // y =', x // y)# integer division (very useful for Numpy arrays)\n",
        "print('x * y =', x * y)\n",
        "print('x ^ y =', x ** y)  # x power y"
      ],
      "execution_count": 3,
      "outputs": [
        {
          "output_type": "stream",
          "name": "stdout",
          "text": [
            "x + y = 55.5\n",
            "x - y = -1.5\n",
            "x / y = 0.9473684210526315\n",
            "x // y = 0.0\n",
            "x * y = 769.5\n",
            "x ^ y = 6.221101377176157e+40\n"
          ]
        }
      ]
    },
    {
      "cell_type": "code",
      "metadata": {
        "id": "osU_peQiV5QH",
        "colab": {
          "base_uri": "https://localhost:8080/"
        },
        "outputId": "3e49ee7c-104a-4a32-e30b-79eda3e34eb4"
      },
      "source": [
        "# Comparison operations\n",
        "print('equality :', x == y)\n",
        "print('inequality :', x != y)\n",
        "print('less or equal :', x <= y)\n",
        "print(' greater than or equal to:', x >= y)"
      ],
      "execution_count": 5,
      "outputs": [
        {
          "output_type": "stream",
          "name": "stdout",
          "text": [
            "equality : False\n",
            "inequality : True\n",
            "less or equal : True\n",
            " greater than or equal to: False\n"
          ]
        }
      ]
    },
    {
      "cell_type": "code",
      "metadata": {
        "id": "1s4g7tZxWpm0",
        "colab": {
          "base_uri": "https://localhost:8080/"
        },
        "outputId": "11f16ae8-8e44-4bf7-9abf-b3d391491fd2"
      },
      "source": [
        "# Logical Operations\n",
        "print('AND :', False and True)\n",
        "print('OR :', False or True)\n",
        "print('exclusive OR :', False ^ True)"
      ],
      "execution_count": 6,
      "outputs": [
        {
          "output_type": "stream",
          "name": "stdout",
          "text": [
            "AND : False\n",
            "OR : True\n",
            "exclusive OR : True\n"
          ]
        }
      ]
    },
    {
      "cell_type": "markdown",
      "metadata": {
        "id": "z5QvguMPYVgQ"
      },
      "source": [
        "Note : Les opérations de comparaison et de logique utilisées ensemble permettent de construire des structures algorithmiques de bases (if/esle, while, ...)"
      ]
    },
    {
      "cell_type": "markdown",
      "metadata": {
        "id": "pLJYfhleZRqo"
      },
      "source": [
        "## 2. Functions\n",
        "An anonymous function is a function created with **lambda**. This type of function is basic and is useful to be integrated in the middle of control structures or other functions. It is rarely used."
      ]
    },
    {
      "cell_type": "code",
      "metadata": {
        "id": "8nUYmJJhX7s7",
        "colab": {
          "base_uri": "https://localhost:8080/"
        },
        "outputId": "79baebe6-3d3a-428f-ad4d-1108d731d246"
      },
      "source": [
        "# Example of a function f(x) = x^2\n",
        "f = lambda x : x**2\n",
        "\n",
        "print(f(3))"
      ],
      "execution_count": 7,
      "outputs": [
        {
          "output_type": "stream",
          "name": "stdout",
          "text": [
            "9\n"
          ]
        }
      ]
    },
    {
      "cell_type": "code",
      "metadata": {
        "id": "n15GdMX1ZdjW",
        "colab": {
          "base_uri": "https://localhost:8080/"
        },
        "outputId": "4c7e6a9d-b77b-4dda-a6d0-6eb2bee1ea62"
      },
      "source": [
        "# Example of a function g(x, y) = x^2 - y^2\n",
        "g = lambda x, y : x**2 - y**2\n",
        "\n",
        "print(g(4, 2))"
      ],
      "execution_count": 8,
      "outputs": [
        {
          "output_type": "stream",
          "name": "stdout",
          "text": [
            "12\n"
          ]
        }
      ]
    },
    {
      "cell_type": "markdown",
      "metadata": {
        "id": "YjgH-JfFajmb"
      },
      "source": [
        "The best way to create a function is to use the following structure: **def**"
      ]
    },
    {
      "cell_type": "code",
      "metadata": {
        "id": "kgDxdfuIadt1",
        "colab": {
          "base_uri": "https://localhost:8080/"
        },
        "outputId": "6a6ee99a-eb60-4f88-f5f1-2b12570a2a92"
      },
      "source": [
        "# a function has a name, takes inputs (arguments) and transforms them to return a result\n",
        "\n",
        "def function_name(argument_1, argument_2):\n",
        "   result = argument_1 + argument_2\n",
        "   return result\n",
        "\n",
        "function_name(3, 2)"
      ],
      "execution_count": 9,
      "outputs": [
        {
          "output_type": "execute_result",
          "data": {
            "text/plain": [
              "5"
            ]
          },
          "metadata": {},
          "execution_count": 9
        }
      ]
    },
    {
      "cell_type": "code",
      "metadata": {
        "id": "rB-yIhFxbUPa",
        "colab": {
          "base_uri": "https://localhost:8080/"
        },
        "outputId": "99374adf-bd92-4779-8d93-9d86b6cabe8f"
      },
      "source": [
        "# Concrete example: function that calculates the potential energy of a body\n",
        "\n",
        "def e_potential(mass, height, g=9.81):\n",
        "  energy = mass * height * g\n",
        "  return energy\n",
        "\n",
        "# here g has a default value so we don't have to give it a value\n",
        "e_potential(mass=10, height=10)"
      ],
      "execution_count": 10,
      "outputs": [
        {
          "output_type": "execute_result",
          "data": {
            "text/plain": [
              "981.0"
            ]
          },
          "metadata": {},
          "execution_count": 10
        }
      ]
    },
    {
      "cell_type": "code",
      "metadata": {
        "id": "oS7eMl_GdFZO"
      },
      "source": [],
      "execution_count": null,
      "outputs": []
    }
  ]
}